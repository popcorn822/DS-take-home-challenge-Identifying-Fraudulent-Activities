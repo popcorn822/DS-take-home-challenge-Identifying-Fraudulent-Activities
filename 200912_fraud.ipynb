{
 "cells": [
  {
   "cell_type": "code",
   "execution_count": 1,
   "metadata": {},
   "outputs": [],
   "source": [
    "import numpy as np\n",
    "import pandas as pd\n",
    "import seaborn as sns\n",
    "import matplotlib.pyplot as plt\n",
    "%matplotlib inline"
   ]
  },
  {
   "cell_type": "code",
   "execution_count": 2,
   "metadata": {},
   "outputs": [],
   "source": [
    "df = pd.read_csv('Fraud_Data.csv')"
   ]
  },
  {
   "cell_type": "code",
   "execution_count": 3,
   "metadata": {},
   "outputs": [
    {
     "data": {
      "text/html": [
       "<div>\n",
       "<style scoped>\n",
       "    .dataframe tbody tr th:only-of-type {\n",
       "        vertical-align: middle;\n",
       "    }\n",
       "\n",
       "    .dataframe tbody tr th {\n",
       "        vertical-align: top;\n",
       "    }\n",
       "\n",
       "    .dataframe thead th {\n",
       "        text-align: right;\n",
       "    }\n",
       "</style>\n",
       "<table border=\"1\" class=\"dataframe\">\n",
       "  <thead>\n",
       "    <tr style=\"text-align: right;\">\n",
       "      <th></th>\n",
       "      <th>user_id</th>\n",
       "      <th>signup_time</th>\n",
       "      <th>purchase_time</th>\n",
       "      <th>purchase_value</th>\n",
       "      <th>device_id</th>\n",
       "      <th>source</th>\n",
       "      <th>browser</th>\n",
       "      <th>sex</th>\n",
       "      <th>age</th>\n",
       "      <th>ip_address</th>\n",
       "      <th>class</th>\n",
       "    </tr>\n",
       "  </thead>\n",
       "  <tbody>\n",
       "    <tr>\n",
       "      <th>0</th>\n",
       "      <td>22058</td>\n",
       "      <td>2015-02-24 22:55:49</td>\n",
       "      <td>2015-04-18 02:47:11</td>\n",
       "      <td>34</td>\n",
       "      <td>QVPSPJUOCKZAR</td>\n",
       "      <td>SEO</td>\n",
       "      <td>Chrome</td>\n",
       "      <td>M</td>\n",
       "      <td>39</td>\n",
       "      <td>7.327584e+08</td>\n",
       "      <td>0</td>\n",
       "    </tr>\n",
       "    <tr>\n",
       "      <th>1</th>\n",
       "      <td>333320</td>\n",
       "      <td>2015-06-07 20:39:50</td>\n",
       "      <td>2015-06-08 01:38:54</td>\n",
       "      <td>16</td>\n",
       "      <td>EOGFQPIZPYXFZ</td>\n",
       "      <td>Ads</td>\n",
       "      <td>Chrome</td>\n",
       "      <td>F</td>\n",
       "      <td>53</td>\n",
       "      <td>3.503114e+08</td>\n",
       "      <td>0</td>\n",
       "    </tr>\n",
       "    <tr>\n",
       "      <th>2</th>\n",
       "      <td>1359</td>\n",
       "      <td>2015-01-01 18:52:44</td>\n",
       "      <td>2015-01-01 18:52:45</td>\n",
       "      <td>15</td>\n",
       "      <td>YSSKYOSJHPPLJ</td>\n",
       "      <td>SEO</td>\n",
       "      <td>Opera</td>\n",
       "      <td>M</td>\n",
       "      <td>53</td>\n",
       "      <td>2.621474e+09</td>\n",
       "      <td>1</td>\n",
       "    </tr>\n",
       "    <tr>\n",
       "      <th>3</th>\n",
       "      <td>150084</td>\n",
       "      <td>2015-04-28 21:13:25</td>\n",
       "      <td>2015-05-04 13:54:50</td>\n",
       "      <td>44</td>\n",
       "      <td>ATGTXKYKUDUQN</td>\n",
       "      <td>SEO</td>\n",
       "      <td>Safari</td>\n",
       "      <td>M</td>\n",
       "      <td>41</td>\n",
       "      <td>3.840542e+09</td>\n",
       "      <td>0</td>\n",
       "    </tr>\n",
       "    <tr>\n",
       "      <th>4</th>\n",
       "      <td>221365</td>\n",
       "      <td>2015-07-21 07:09:52</td>\n",
       "      <td>2015-09-09 18:40:53</td>\n",
       "      <td>39</td>\n",
       "      <td>NAUITBZFJKHWW</td>\n",
       "      <td>Ads</td>\n",
       "      <td>Safari</td>\n",
       "      <td>M</td>\n",
       "      <td>45</td>\n",
       "      <td>4.155831e+08</td>\n",
       "      <td>0</td>\n",
       "    </tr>\n",
       "  </tbody>\n",
       "</table>\n",
       "</div>"
      ],
      "text/plain": [
       "   user_id          signup_time        purchase_time  purchase_value  \\\n",
       "0    22058  2015-02-24 22:55:49  2015-04-18 02:47:11              34   \n",
       "1   333320  2015-06-07 20:39:50  2015-06-08 01:38:54              16   \n",
       "2     1359  2015-01-01 18:52:44  2015-01-01 18:52:45              15   \n",
       "3   150084  2015-04-28 21:13:25  2015-05-04 13:54:50              44   \n",
       "4   221365  2015-07-21 07:09:52  2015-09-09 18:40:53              39   \n",
       "\n",
       "       device_id source browser sex  age    ip_address  class  \n",
       "0  QVPSPJUOCKZAR    SEO  Chrome   M   39  7.327584e+08      0  \n",
       "1  EOGFQPIZPYXFZ    Ads  Chrome   F   53  3.503114e+08      0  \n",
       "2  YSSKYOSJHPPLJ    SEO   Opera   M   53  2.621474e+09      1  \n",
       "3  ATGTXKYKUDUQN    SEO  Safari   M   41  3.840542e+09      0  \n",
       "4  NAUITBZFJKHWW    Ads  Safari   M   45  4.155831e+08      0  "
      ]
     },
     "execution_count": 3,
     "metadata": {},
     "output_type": "execute_result"
    }
   ],
   "source": [
    "df.head()"
   ]
  },
  {
   "cell_type": "code",
   "execution_count": 4,
   "metadata": {},
   "outputs": [
    {
     "data": {
      "text/plain": [
       "(151112, 11)"
      ]
     },
     "execution_count": 4,
     "metadata": {},
     "output_type": "execute_result"
    }
   ],
   "source": [
    "df.shape"
   ]
  },
  {
   "cell_type": "markdown",
   "metadata": {},
   "source": [
    "### Step1: exploratory data visualizations with original features"
   ]
  },
  {
   "cell_type": "code",
   "execution_count": 5,
   "metadata": {},
   "outputs": [
    {
     "data": {
      "text/plain": [
       "<matplotlib.axes._subplots.AxesSubplot at 0x23b011b25c8>"
      ]
     },
     "execution_count": 5,
     "metadata": {},
     "output_type": "execute_result"
    },
    {
     "data": {
      "image/png": "[encoded data removed]",
      "text/plain": [
       "<Figure size 432x288 with 1 Axes>"
      ]
     },
     "metadata": {
      "needs_background": "light"
     },
     "output_type": "display_data"
    }
   ],
   "source": [
    "sns.countplot(df['class'])\n",
    "# imbalanced data set"
   ]
  },
  {
   "cell_type": "code",
   "execution_count": 6,
   "metadata": {},
   "outputs": [
    {
     "data": {
      "text/plain": [
       "count    151112.000000\n",
       "mean          0.093646\n",
       "std           0.291336\n",
       "min           0.000000\n",
       "25%           0.000000\n",
       "50%           0.000000\n",
       "75%           0.000000\n",
       "max           1.000000\n",
       "Name: class, dtype: float64"
      ]
     },
     "execution_count": 6,
     "metadata": {},
     "output_type": "execute_result"
    }
   ],
   "source": [
    "df['class'].describe() #fraud rate = 9.3% "
   ]
  },
  {
   "cell_type": "code",
   "execution_count": 7,
   "metadata": {},
   "outputs": [
    {
     "data": {
      "text/plain": [
       "<matplotlib.axes._subplots.AxesSubplot at 0x23b015072c8>"
      ]
     },
     "execution_count": 7,
     "metadata": {},
     "output_type": "execute_result"
    },
    {
     "data": {
      "image/png": "[encoded data removed]",
      "text/plain": [
       "<Figure size 432x288 with 1 Axes>"
      ]
     },
     "metadata": {
      "needs_background": "light"
     },
     "output_type": "display_data"
    }
   ],
   "source": [
    "sns.barplot('browser','class',data =df)\n",
    "# different browsers have similar fraud rate"
   ]
  },
  {
   "cell_type": "code",
   "execution_count": 8,
   "metadata": {},
   "outputs": [
    {
     "data": {
      "text/plain": [
       "<matplotlib.axes._subplots.AxesSubplot at 0x23b0480ed88>"
      ]
     },
     "execution_count": 8,
     "metadata": {},
     "output_type": "execute_result"
    },
    {
     "data": {
      "image/png": "[encoded data removed]",
      "text/plain": [
       "<Figure size 432x288 with 1 Axes>"
      ]
     },
     "metadata": {
      "needs_background": "light"
     },
     "output_type": "display_data"
    }
   ],
   "source": [
    "sns.barplot('source','class',data =df)\n",
    "#Direct source has a higher fraud rate"
   ]
  },
  {
   "cell_type": "code",
   "execution_count": 9,
   "metadata": {},
   "outputs": [
    {
     "data": {
      "text/plain": [
       "<matplotlib.axes._subplots.AxesSubplot at 0x23b0485a788>"
      ]
     },
     "execution_count": 9,
     "metadata": {},
     "output_type": "execute_result"
    },
    {
     "data": {
      "image/png": "[encoded data removed]",
      "text/plain": [
       "<Figure size 432x288 with 1 Axes>"
      ]
     },
     "metadata": {
      "needs_background": "light"
     },
     "output_type": "display_data"
    }
   ],
   "source": [
    "sns.barplot('sex','class',data =df)\n",
    "# male has a slightly higher fraud rate "
   ]
  },
  {
   "cell_type": "code",
   "execution_count": 10,
   "metadata": {},
   "outputs": [
    {
     "data": {
      "text/plain": [
       "<matplotlib.axes._subplots.AxesSubplot at 0x23b047cde08>"
      ]
     },
     "execution_count": 10,
     "metadata": {},
     "output_type": "execute_result"
    },
    {
     "data": {
      "image/png": "[encoded data removed]",
      "text/plain": [
       "<Figure size 432x288 with 1 Axes>"
      ]
     },
     "metadata": {
      "needs_background": "light"
     },
     "output_type": "display_data"
    }
   ],
   "source": [
    "sns.distplot(df['age'])"
   ]
  },
  {
   "cell_type": "code",
   "execution_count": 11,
   "metadata": {},
   "outputs": [
    {
     "data": {
      "text/plain": [
       "<matplotlib.axes._subplots.AxesSubplot at 0x23b04989788>"
      ]
     },
     "execution_count": 11,
     "metadata": {},
     "output_type": "execute_result"
    },
    {
     "data": {
      "image/png": "[encoded data removed]",
      "text/plain": [
       "<Figure size 432x288 with 1 Axes>"
      ]
     },
     "metadata": {
      "needs_background": "light"
     },
     "output_type": "display_data"
    }
   ],
   "source": [
    "sns.distplot(df['purchase_value'])\n",
    "# distribution looks normal"
   ]
  },
  {
   "cell_type": "code",
   "execution_count": 12,
   "metadata": {},
   "outputs": [
    {
     "data": {
      "text/plain": [
       "154"
      ]
     },
     "execution_count": 12,
     "metadata": {},
     "output_type": "execute_result"
    }
   ],
   "source": [
    "df['purchase_value'].max()\n",
    "# with a most expensive purchase of $154"
   ]
  },
  {
   "cell_type": "markdown",
   "metadata": {},
   "source": [
    "### Step 2 (Question 1): determine the country of each IP address"
   ]
  },
  {
   "cell_type": "code",
   "execution_count": 13,
   "metadata": {},
   "outputs": [],
   "source": [
    "df_IP = pd.read_csv('IpAddress_to_Country.csv')"
   ]
  },
  {
   "cell_type": "code",
   "execution_count": 14,
   "metadata": {},
   "outputs": [
    {
     "data": {
      "text/html": [
       "<div>\n",
       "<style scoped>\n",
       "    .dataframe tbody tr th:only-of-type {\n",
       "        vertical-align: middle;\n",
       "    }\n",
       "\n",
       "    .dataframe tbody tr th {\n",
       "        vertical-align: top;\n",
       "    }\n",
       "\n",
       "    .dataframe thead th {\n",
       "        text-align: right;\n",
       "    }\n",
       "</style>\n",
       "<table border=\"1\" class=\"dataframe\">\n",
       "  <thead>\n",
       "    <tr style=\"text-align: right;\">\n",
       "      <th></th>\n",
       "      <th>lower_bound_ip_address</th>\n",
       "      <th>upper_bound_ip_address</th>\n",
       "      <th>country</th>\n",
       "    </tr>\n",
       "  </thead>\n",
       "  <tbody>\n",
       "    <tr>\n",
       "      <th>0</th>\n",
       "      <td>16777216.0</td>\n",
       "      <td>16777471</td>\n",
       "      <td>Australia</td>\n",
       "    </tr>\n",
       "    <tr>\n",
       "      <th>1</th>\n",
       "      <td>16777472.0</td>\n",
       "      <td>16777727</td>\n",
       "      <td>China</td>\n",
       "    </tr>\n",
       "    <tr>\n",
       "      <th>2</th>\n",
       "      <td>16777728.0</td>\n",
       "      <td>16778239</td>\n",
       "      <td>China</td>\n",
       "    </tr>\n",
       "    <tr>\n",
       "      <th>3</th>\n",
       "      <td>16778240.0</td>\n",
       "      <td>16779263</td>\n",
       "      <td>Australia</td>\n",
       "    </tr>\n",
       "    <tr>\n",
       "      <th>4</th>\n",
       "      <td>16779264.0</td>\n",
       "      <td>16781311</td>\n",
       "      <td>China</td>\n",
       "    </tr>\n",
       "  </tbody>\n",
       "</table>\n",
       "</div>"
      ],
      "text/plain": [
       "   lower_bound_ip_address  upper_bound_ip_address    country\n",
       "0              16777216.0                16777471  Australia\n",
       "1              16777472.0                16777727      China\n",
       "2              16777728.0                16778239      China\n",
       "3              16778240.0                16779263  Australia\n",
       "4              16779264.0                16781311      China"
      ]
     },
     "execution_count": 14,
     "metadata": {},
     "output_type": "execute_result"
    }
   ],
   "source": [
    "df_IP.head()"
   ]
  },
  {
   "cell_type": "code",
   "execution_count": 15,
   "metadata": {},
   "outputs": [
    {
     "data": {
      "text/plain": [
       "United States         46868\n",
       "Canada                 6989\n",
       "Russian Federation     6739\n",
       "Australia              6316\n",
       "Germany                5999\n",
       "                      ...  \n",
       "Mayotte                   1\n",
       "Comoros                   1\n",
       "Eritrea                   1\n",
       "Marshall Islands          1\n",
       "Tuvalu                    1\n",
       "Name: country, Length: 235, dtype: int64"
      ]
     },
     "execution_count": 15,
     "metadata": {},
     "output_type": "execute_result"
    }
   ],
   "source": [
    "# check how many different countreis are listed in df_IP\n",
    "df_IP['country'].value_counts()"
   ]
  },
  {
   "cell_type": "code",
   "execution_count": 16,
   "metadata": {},
   "outputs": [],
   "source": [
    "#given the ip_address in df, find the country in df_IP\n",
    "countries = []\n",
    "for i in range(len(df)):\n",
    "    ip_address = df['ip_address'].iloc[i]\n",
    "    tmp = df_IP[(df_IP['lower_bound_ip_address'] <= ip_address) &\n",
    "                          (df_IP['upper_bound_ip_address'] >= ip_address)]\n",
    "    if len(tmp) ==1:\n",
    "        countries.append(tmp['country'].values[0])\n",
    "    else: \n",
    "        countries.append('NA')\n",
    "df['country'] = countries"
   ]
  },
  {
   "cell_type": "code",
   "execution_count": 17,
   "metadata": {},
   "outputs": [
    {
     "data": {
      "text/html": [
       "<div>\n",
       "<style scoped>\n",
       "    .dataframe tbody tr th:only-of-type {\n",
       "        vertical-align: middle;\n",
       "    }\n",
       "\n",
       "    .dataframe tbody tr th {\n",
       "        vertical-align: top;\n",
       "    }\n",
       "\n",
       "    .dataframe thead th {\n",
       "        text-align: right;\n",
       "    }\n",
       "</style>\n",
       "<table border=\"1\" class=\"dataframe\">\n",
       "  <thead>\n",
       "    <tr style=\"text-align: right;\">\n",
       "      <th></th>\n",
       "      <th>user_id</th>\n",
       "      <th>signup_time</th>\n",
       "      <th>purchase_time</th>\n",
       "      <th>purchase_value</th>\n",
       "      <th>device_id</th>\n",
       "      <th>source</th>\n",
       "      <th>browser</th>\n",
       "      <th>sex</th>\n",
       "      <th>age</th>\n",
       "      <th>ip_address</th>\n",
       "      <th>class</th>\n",
       "      <th>country</th>\n",
       "    </tr>\n",
       "  </thead>\n",
       "  <tbody>\n",
       "    <tr>\n",
       "      <th>0</th>\n",
       "      <td>22058</td>\n",
       "      <td>2015-02-24 22:55:49</td>\n",
       "      <td>2015-04-18 02:47:11</td>\n",
       "      <td>34</td>\n",
       "      <td>QVPSPJUOCKZAR</td>\n",
       "      <td>SEO</td>\n",
       "      <td>Chrome</td>\n",
       "      <td>M</td>\n",
       "      <td>39</td>\n",
       "      <td>7.327584e+08</td>\n",
       "      <td>0</td>\n",
       "      <td>Japan</td>\n",
       "    </tr>\n",
       "    <tr>\n",
       "      <th>1</th>\n",
       "      <td>333320</td>\n",
       "      <td>2015-06-07 20:39:50</td>\n",
       "      <td>2015-06-08 01:38:54</td>\n",
       "      <td>16</td>\n",
       "      <td>EOGFQPIZPYXFZ</td>\n",
       "      <td>Ads</td>\n",
       "      <td>Chrome</td>\n",
       "      <td>F</td>\n",
       "      <td>53</td>\n",
       "      <td>3.503114e+08</td>\n",
       "      <td>0</td>\n",
       "      <td>United States</td>\n",
       "    </tr>\n",
       "    <tr>\n",
       "      <th>2</th>\n",
       "      <td>1359</td>\n",
       "      <td>2015-01-01 18:52:44</td>\n",
       "      <td>2015-01-01 18:52:45</td>\n",
       "      <td>15</td>\n",
       "      <td>YSSKYOSJHPPLJ</td>\n",
       "      <td>SEO</td>\n",
       "      <td>Opera</td>\n",
       "      <td>M</td>\n",
       "      <td>53</td>\n",
       "      <td>2.621474e+09</td>\n",
       "      <td>1</td>\n",
       "      <td>United States</td>\n",
       "    </tr>\n",
       "    <tr>\n",
       "      <th>3</th>\n",
       "      <td>150084</td>\n",
       "      <td>2015-04-28 21:13:25</td>\n",
       "      <td>2015-05-04 13:54:50</td>\n",
       "      <td>44</td>\n",
       "      <td>ATGTXKYKUDUQN</td>\n",
       "      <td>SEO</td>\n",
       "      <td>Safari</td>\n",
       "      <td>M</td>\n",
       "      <td>41</td>\n",
       "      <td>3.840542e+09</td>\n",
       "      <td>0</td>\n",
       "      <td>NA</td>\n",
       "    </tr>\n",
       "    <tr>\n",
       "      <th>4</th>\n",
       "      <td>221365</td>\n",
       "      <td>2015-07-21 07:09:52</td>\n",
       "      <td>2015-09-09 18:40:53</td>\n",
       "      <td>39</td>\n",
       "      <td>NAUITBZFJKHWW</td>\n",
       "      <td>Ads</td>\n",
       "      <td>Safari</td>\n",
       "      <td>M</td>\n",
       "      <td>45</td>\n",
       "      <td>4.155831e+08</td>\n",
       "      <td>0</td>\n",
       "      <td>United States</td>\n",
       "    </tr>\n",
       "  </tbody>\n",
       "</table>\n",
       "</div>"
      ],
      "text/plain": [
       "   user_id          signup_time        purchase_time  purchase_value  \\\n",
       "0    22058  2015-02-24 22:55:49  2015-04-18 02:47:11              34   \n",
       "1   333320  2015-06-07 20:39:50  2015-06-08 01:38:54              16   \n",
       "2     1359  2015-01-01 18:52:44  2015-01-01 18:52:45              15   \n",
       "3   150084  2015-04-28 21:13:25  2015-05-04 13:54:50              44   \n",
       "4   221365  2015-07-21 07:09:52  2015-09-09 18:40:53              39   \n",
       "\n",
       "       device_id source browser sex  age    ip_address  class        country  \n",
       "0  QVPSPJUOCKZAR    SEO  Chrome   M   39  7.327584e+08      0          Japan  \n",
       "1  EOGFQPIZPYXFZ    Ads  Chrome   F   53  3.503114e+08      0  United States  \n",
       "2  YSSKYOSJHPPLJ    SEO   Opera   M   53  2.621474e+09      1  United States  \n",
       "3  ATGTXKYKUDUQN    SEO  Safari   M   41  3.840542e+09      0             NA  \n",
       "4  NAUITBZFJKHWW    Ads  Safari   M   45  4.155831e+08      0  United States  "
      ]
     },
     "execution_count": 17,
     "metadata": {},
     "output_type": "execute_result"
    }
   ],
   "source": [
    "df.head()"
   ]
  },
  {
   "cell_type": "markdown",
   "metadata": {},
   "source": [
    "## Question 1 Conclusion: country names are listed in the 'country' column in the DataFrame above"
   ]
  },
  {
   "cell_type": "code",
   "execution_count": 18,
   "metadata": {},
   "outputs": [
    {
     "data": {
      "text/html": [
       "<div>\n",
       "<style scoped>\n",
       "    .dataframe tbody tr th:only-of-type {\n",
       "        vertical-align: middle;\n",
       "    }\n",
       "\n",
       "    .dataframe tbody tr th {\n",
       "        vertical-align: top;\n",
       "    }\n",
       "\n",
       "    .dataframe thead th {\n",
       "        text-align: right;\n",
       "    }\n",
       "</style>\n",
       "<table border=\"1\" class=\"dataframe\">\n",
       "  <thead>\n",
       "    <tr style=\"text-align: right;\">\n",
       "      <th></th>\n",
       "      <th>user_id</th>\n",
       "      <th>signup_time</th>\n",
       "      <th>purchase_time</th>\n",
       "      <th>purchase_value</th>\n",
       "      <th>device_id</th>\n",
       "      <th>source</th>\n",
       "      <th>browser</th>\n",
       "      <th>sex</th>\n",
       "      <th>age</th>\n",
       "      <th>ip_address</th>\n",
       "      <th>class</th>\n",
       "      <th>country</th>\n",
       "    </tr>\n",
       "  </thead>\n",
       "  <tbody>\n",
       "    <tr>\n",
       "      <th>3</th>\n",
       "      <td>150084</td>\n",
       "      <td>2015-04-28 21:13:25</td>\n",
       "      <td>2015-05-04 13:54:50</td>\n",
       "      <td>44</td>\n",
       "      <td>ATGTXKYKUDUQN</td>\n",
       "      <td>SEO</td>\n",
       "      <td>Safari</td>\n",
       "      <td>M</td>\n",
       "      <td>41</td>\n",
       "      <td>3.840542e+09</td>\n",
       "      <td>0</td>\n",
       "      <td>NA</td>\n",
       "    </tr>\n",
       "    <tr>\n",
       "      <th>6</th>\n",
       "      <td>50116</td>\n",
       "      <td>2015-08-01 22:40:52</td>\n",
       "      <td>2015-08-27 03:37:57</td>\n",
       "      <td>11</td>\n",
       "      <td>IWKVZHJOCLPUR</td>\n",
       "      <td>Ads</td>\n",
       "      <td>Chrome</td>\n",
       "      <td>F</td>\n",
       "      <td>19</td>\n",
       "      <td>3.987484e+09</td>\n",
       "      <td>0</td>\n",
       "      <td>NA</td>\n",
       "    </tr>\n",
       "    <tr>\n",
       "      <th>11</th>\n",
       "      <td>73884</td>\n",
       "      <td>2015-05-29 16:22:02</td>\n",
       "      <td>2015-06-16 05:45:58</td>\n",
       "      <td>58</td>\n",
       "      <td>ZTZZJUCRDOCJZ</td>\n",
       "      <td>Direct</td>\n",
       "      <td>Chrome</td>\n",
       "      <td>M</td>\n",
       "      <td>32</td>\n",
       "      <td>4.038285e+09</td>\n",
       "      <td>0</td>\n",
       "      <td>NA</td>\n",
       "    </tr>\n",
       "    <tr>\n",
       "      <th>12</th>\n",
       "      <td>79203</td>\n",
       "      <td>2015-06-16 21:19:35</td>\n",
       "      <td>2015-06-21 03:29:59</td>\n",
       "      <td>18</td>\n",
       "      <td>IBPNKSMCKUZWD</td>\n",
       "      <td>SEO</td>\n",
       "      <td>Safari</td>\n",
       "      <td>M</td>\n",
       "      <td>33</td>\n",
       "      <td>4.161541e+09</td>\n",
       "      <td>0</td>\n",
       "      <td>NA</td>\n",
       "    </tr>\n",
       "    <tr>\n",
       "      <th>14</th>\n",
       "      <td>82931</td>\n",
       "      <td>2015-02-16 02:50:30</td>\n",
       "      <td>2015-04-16 00:56:47</td>\n",
       "      <td>15</td>\n",
       "      <td>XKIFNYUZMBWFU</td>\n",
       "      <td>SEO</td>\n",
       "      <td>IE</td>\n",
       "      <td>M</td>\n",
       "      <td>24</td>\n",
       "      <td>4.203488e+09</td>\n",
       "      <td>0</td>\n",
       "      <td>NA</td>\n",
       "    </tr>\n",
       "    <tr>\n",
       "      <th>...</th>\n",
       "      <td>...</td>\n",
       "      <td>...</td>\n",
       "      <td>...</td>\n",
       "      <td>...</td>\n",
       "      <td>...</td>\n",
       "      <td>...</td>\n",
       "      <td>...</td>\n",
       "      <td>...</td>\n",
       "      <td>...</td>\n",
       "      <td>...</td>\n",
       "      <td>...</td>\n",
       "      <td>...</td>\n",
       "    </tr>\n",
       "    <tr>\n",
       "      <th>151084</th>\n",
       "      <td>364012</td>\n",
       "      <td>2015-04-08 06:34:11</td>\n",
       "      <td>2015-07-07 16:57:37</td>\n",
       "      <td>52</td>\n",
       "      <td>HHOFFWETPEJWD</td>\n",
       "      <td>SEO</td>\n",
       "      <td>Chrome</td>\n",
       "      <td>M</td>\n",
       "      <td>44</td>\n",
       "      <td>3.995197e+09</td>\n",
       "      <td>0</td>\n",
       "      <td>NA</td>\n",
       "    </tr>\n",
       "    <tr>\n",
       "      <th>151096</th>\n",
       "      <td>27502</td>\n",
       "      <td>2015-04-14 23:43:03</td>\n",
       "      <td>2015-06-24 10:42:00</td>\n",
       "      <td>43</td>\n",
       "      <td>PYCNPZMYIETTA</td>\n",
       "      <td>Direct</td>\n",
       "      <td>Opera</td>\n",
       "      <td>F</td>\n",
       "      <td>30</td>\n",
       "      <td>4.202836e+09</td>\n",
       "      <td>0</td>\n",
       "      <td>NA</td>\n",
       "    </tr>\n",
       "    <tr>\n",
       "      <th>151098</th>\n",
       "      <td>318557</td>\n",
       "      <td>2015-04-10 01:36:49</td>\n",
       "      <td>2015-05-14 07:17:23</td>\n",
       "      <td>55</td>\n",
       "      <td>QYTSTAJZSKDGD</td>\n",
       "      <td>Ads</td>\n",
       "      <td>Chrome</td>\n",
       "      <td>F</td>\n",
       "      <td>49</td>\n",
       "      <td>3.890144e+09</td>\n",
       "      <td>0</td>\n",
       "      <td>NA</td>\n",
       "    </tr>\n",
       "    <tr>\n",
       "      <th>151100</th>\n",
       "      <td>313804</td>\n",
       "      <td>2015-02-07 14:31:07</td>\n",
       "      <td>2015-03-02 19:20:25</td>\n",
       "      <td>48</td>\n",
       "      <td>KEVINKEAJOSXJ</td>\n",
       "      <td>SEO</td>\n",
       "      <td>FireFox</td>\n",
       "      <td>F</td>\n",
       "      <td>31</td>\n",
       "      <td>4.251103e+09</td>\n",
       "      <td>0</td>\n",
       "      <td>NA</td>\n",
       "    </tr>\n",
       "    <tr>\n",
       "      <th>151111</th>\n",
       "      <td>138208</td>\n",
       "      <td>2015-06-10 07:02:20</td>\n",
       "      <td>2015-07-21 02:03:53</td>\n",
       "      <td>20</td>\n",
       "      <td>ZINIADFCLHYPG</td>\n",
       "      <td>Direct</td>\n",
       "      <td>IE</td>\n",
       "      <td>M</td>\n",
       "      <td>38</td>\n",
       "      <td>4.103825e+09</td>\n",
       "      <td>0</td>\n",
       "      <td>NA</td>\n",
       "    </tr>\n",
       "  </tbody>\n",
       "</table>\n",
       "<p>21966 rows × 12 columns</p>\n",
       "</div>"
      ],
      "text/plain": [
       "        user_id          signup_time        purchase_time  purchase_value  \\\n",
       "3        150084  2015-04-28 21:13:25  2015-05-04 13:54:50              44   \n",
       "6         50116  2015-08-01 22:40:52  2015-08-27 03:37:57              11   \n",
       "11        73884  2015-05-29 16:22:02  2015-06-16 05:45:58              58   \n",
       "12        79203  2015-06-16 21:19:35  2015-06-21 03:29:59              18   \n",
       "14        82931  2015-02-16 02:50:30  2015-04-16 00:56:47              15   \n",
       "...         ...                  ...                  ...             ...   \n",
       "151084   364012  2015-04-08 06:34:11  2015-07-07 16:57:37              52   \n",
       "151096    27502  2015-04-14 23:43:03  2015-06-24 10:42:00              43   \n",
       "151098   318557  2015-04-10 01:36:49  2015-05-14 07:17:23              55   \n",
       "151100   313804  2015-02-07 14:31:07  2015-03-02 19:20:25              48   \n",
       "151111   138208  2015-06-10 07:02:20  2015-07-21 02:03:53              20   \n",
       "\n",
       "            device_id  source  browser sex  age    ip_address  class country  \n",
       "3       ATGTXKYKUDUQN     SEO   Safari   M   41  3.840542e+09      0      NA  \n",
       "6       IWKVZHJOCLPUR     Ads   Chrome   F   19  3.987484e+09      0      NA  \n",
       "11      ZTZZJUCRDOCJZ  Direct   Chrome   M   32  4.038285e+09      0      NA  \n",
       "12      IBPNKSMCKUZWD     SEO   Safari   M   33  4.161541e+09      0      NA  \n",
       "14      XKIFNYUZMBWFU     SEO       IE   M   24  4.203488e+09      0      NA  \n",
       "...               ...     ...      ...  ..  ...           ...    ...     ...  \n",
       "151084  HHOFFWETPEJWD     SEO   Chrome   M   44  3.995197e+09      0      NA  \n",
       "151096  PYCNPZMYIETTA  Direct    Opera   F   30  4.202836e+09      0      NA  \n",
       "151098  QYTSTAJZSKDGD     Ads   Chrome   F   49  3.890144e+09      0      NA  \n",
       "151100  KEVINKEAJOSXJ     SEO  FireFox   F   31  4.251103e+09      0      NA  \n",
       "151111  ZINIADFCLHYPG  Direct       IE   M   38  4.103825e+09      0      NA  \n",
       "\n",
       "[21966 rows x 12 columns]"
      ]
     },
     "execution_count": 18,
     "metadata": {},
     "output_type": "execute_result"
    }
   ],
   "source": [
    "df_NA = df[df['country'] == 'NA']\n",
    "df_NA\n",
    "# country origin of 21966 rows were not found in df_IP, suggesting a possible fake IP? \n",
    "# next step is to check how many idential IP addresses are in these 21966 rows "
   ]
  },
  {
   "cell_type": "code",
   "execution_count": 19,
   "metadata": {},
   "outputs": [
    {
     "data": {
      "text/plain": [
       "Float64Index([  3874757617.26129,   183974753.225656,   2141691947.61474,\n",
       "                4149333595.43826,   3828716001.83371,    2278095.8173399,\n",
       "                3820047641.00664,   4102435168.56565,   4081075207.35052,\n",
       "              178953067.13044098,   4014285529.96041,   3768519420.84358,\n",
       "              4154109666.2434297,   3904575348.81605, 3995823223.8616295,\n",
       "              2893226913.3034897,   3874175296.76085,   4100004971.49175,\n",
       "              4155532702.8265705, 3844702994.6425295,   3872015077.60445,\n",
       "                4246268468.32846, 4084532666.7147603,     4262694823.865,\n",
       "              4143445567.9259295,   4154669703.43661,   176583066.467017,\n",
       "                4279796410.56051,    3920751639.0589,   3869147547.38083,\n",
       "                4095196690.25101, 3855235971.0108104,   3785879484.74634,\n",
       "              4248426694.3951297, 4182417969.6498704,   3969919301.94859,\n",
       "              16669225.674405402, 3802159634.2486296, 4229759354.6288795,\n",
       "              3902837711.2985296, 3944743390.3437204,   3814899968.49315,\n",
       "                 4275223309.4073,    4159915483.5419, 4204700290.7123604,\n",
       "                2887653655.04075, 3905319222.4318705,   3773850754.80315,\n",
       "                4109493870.37539, 4019004388.2338295,   174114436.579002,\n",
       "                3956889775.06896,    3928885689.5897,   3840290371.10086,\n",
       "                4240402078.33437, 3948923075.9695897,   4176397227.98139,\n",
       "              4013655999.0916796,   4125867604.62991,    3796751794.7233,\n",
       "                3906878468.95221,   3876000368.26534, 3895767310.2941704,\n",
       "                3977964684.63702, 4039568057.3636103,   4243173167.43092,\n",
       "                2890012039.53189,   4056991635.12195,   4030311611.86065,\n",
       "                4194851988.93999,   3877823434.63715,   3765208397.61125,\n",
       "                4125656636.04483,   6150366.79747205,   4253075081.59853,\n",
       "                2890662137.73041, 3832553711.2651205, 3988528566.1792297,\n",
       "              4190252223.6321297,   3915422010.68907, 181475981.08943897,\n",
       "              4152940494.5318604,   4102887755.49961,   3770545220.14862,\n",
       "              2138534461.2990398, 4281743132.1397796,   4006708416.39251,\n",
       "                3799088341.04106, 4044384385.8148103,   3879511056.73187,\n",
       "              3975683095.5269203,   4292713844.11088, 2143014193.1648397,\n",
       "                4215242378.55276,   3982970736.88941,   4255394353.61654],\n",
       "             dtype='float64')"
      ]
     },
     "execution_count": 19,
     "metadata": {},
     "output_type": "execute_result"
    }
   ],
   "source": [
    "df_NAoccurance = df_NA['ip_address'].value_counts()\n",
    "df_NAoccurance = df_NAoccurance[df_NAoccurance>5]\n",
    "df_NAoccurance.index\n",
    "# these Ip addresses appeared more than 5 times and have no countires assigned, which are suspicious "
   ]
  },
  {
   "cell_type": "markdown",
   "metadata": {},
   "source": [
    "### Step 3: Feature Engineering"
   ]
  },
  {
   "cell_type": "markdown",
   "metadata": {},
   "source": [
    "#### 1) deriving a new feature country_na: 1 - IP addresses which appeared more than 5 times and no country name assigned; 0 - the rest"
   ]
  },
  {
   "cell_type": "code",
   "execution_count": 20,
   "metadata": {},
   "outputs": [],
   "source": [
    "df['country_na'] = np.where(df['ip_address'].isin(df_NAoccurance.index), 1, 0)"
   ]
  },
  {
   "cell_type": "code",
   "execution_count": 21,
   "metadata": {},
   "outputs": [
    {
     "data": {
      "text/plain": [
       "count    151112.000000\n",
       "mean          0.006882\n",
       "std           0.082674\n",
       "min           0.000000\n",
       "25%           0.000000\n",
       "50%           0.000000\n",
       "75%           0.000000\n",
       "max           1.000000\n",
       "Name: country_na, dtype: float64"
      ]
     },
     "execution_count": 21,
     "metadata": {},
     "output_type": "execute_result"
    }
   ],
   "source": [
    "df['country_na'].describe()"
   ]
  },
  {
   "cell_type": "markdown",
   "metadata": {},
   "source": [
    "#### 2) deriving a new feature time_diff based on purchase_time and signup_time "
   ]
  },
  {
   "cell_type": "code",
   "execution_count": 22,
   "metadata": {},
   "outputs": [],
   "source": [
    "# get the time gap between signup and purchase \n",
    "df['signup_time'] = pd.to_datetime(df['signup_time'])\n",
    "df['purchase_time'] = pd.to_datetime(df['purchase_time'])\n",
    "df['time_diff'] = df['purchase_time'] - df['signup_time']"
   ]
  },
  {
   "cell_type": "code",
   "execution_count": 23,
   "metadata": {},
   "outputs": [],
   "source": [
    "#get the time_diff into total seconds\n",
    "df['time_diff_seconds'] = df['time_diff'].apply(lambda x: x.total_seconds()) "
   ]
  },
  {
   "cell_type": "code",
   "execution_count": 24,
   "metadata": {},
   "outputs": [
    {
     "data": {
      "text/plain": [
       "1.0      7600\n",
       "137.0       1\n",
       "248.0       1\n",
       "312.0       1\n",
       "438.0       1\n",
       "613.0       1\n",
       "728.0       1\n",
       "769.0       1\n",
       "806.0       1\n",
       "865.0       1\n",
       "Name: time_diff_seconds, dtype: int64"
      ]
     },
     "execution_count": 24,
     "metadata": {},
     "output_type": "execute_result"
    }
   ],
   "source": [
    "df['time_diff_seconds'].value_counts().sort_index().head(10)"
   ]
  },
  {
   "cell_type": "code",
   "execution_count": 25,
   "metadata": {},
   "outputs": [
    {
     "data": {
      "text/plain": [
       "<matplotlib.axes._subplots.AxesSubplot at 0x23b04c32a08>"
      ]
     },
     "execution_count": 25,
     "metadata": {},
     "output_type": "execute_result"
    },
    {
     "data": {
      "image/png": "[encoded data removed]",
      "text/plain": [
       "<Figure size 432x288 with 1 Axes>"
      ]
     },
     "metadata": {
      "needs_background": "light"
     },
     "output_type": "display_data"
    }
   ],
   "source": [
    "sns.distplot(df['time_diff_seconds'])"
   ]
  },
  {
   "cell_type": "code",
   "execution_count": 26,
   "metadata": {},
   "outputs": [
    {
     "data": {
      "text/html": [
       "<div>\n",
       "<style scoped>\n",
       "    .dataframe tbody tr th:only-of-type {\n",
       "        vertical-align: middle;\n",
       "    }\n",
       "\n",
       "    .dataframe tbody tr th {\n",
       "        vertical-align: top;\n",
       "    }\n",
       "\n",
       "    .dataframe thead th {\n",
       "        text-align: right;\n",
       "    }\n",
       "</style>\n",
       "<table border=\"1\" class=\"dataframe\">\n",
       "  <thead>\n",
       "    <tr style=\"text-align: right;\">\n",
       "      <th></th>\n",
       "      <th>user_id</th>\n",
       "      <th>signup_time</th>\n",
       "      <th>purchase_time</th>\n",
       "      <th>purchase_value</th>\n",
       "      <th>device_id</th>\n",
       "      <th>source</th>\n",
       "      <th>browser</th>\n",
       "      <th>sex</th>\n",
       "      <th>age</th>\n",
       "      <th>ip_address</th>\n",
       "      <th>class</th>\n",
       "      <th>country</th>\n",
       "      <th>country_na</th>\n",
       "      <th>time_diff</th>\n",
       "      <th>time_diff_seconds</th>\n",
       "    </tr>\n",
       "  </thead>\n",
       "  <tbody>\n",
       "    <tr>\n",
       "      <th>1</th>\n",
       "      <td>333320</td>\n",
       "      <td>2015-06-07 20:39:50</td>\n",
       "      <td>2015-06-08 01:38:54</td>\n",
       "      <td>16</td>\n",
       "      <td>EOGFQPIZPYXFZ</td>\n",
       "      <td>Ads</td>\n",
       "      <td>Chrome</td>\n",
       "      <td>F</td>\n",
       "      <td>53</td>\n",
       "      <td>3.503114e+08</td>\n",
       "      <td>0</td>\n",
       "      <td>United States</td>\n",
       "      <td>0</td>\n",
       "      <td>04:59:04</td>\n",
       "      <td>17944.0</td>\n",
       "    </tr>\n",
       "    <tr>\n",
       "      <th>2</th>\n",
       "      <td>1359</td>\n",
       "      <td>2015-01-01 18:52:44</td>\n",
       "      <td>2015-01-01 18:52:45</td>\n",
       "      <td>15</td>\n",
       "      <td>YSSKYOSJHPPLJ</td>\n",
       "      <td>SEO</td>\n",
       "      <td>Opera</td>\n",
       "      <td>M</td>\n",
       "      <td>53</td>\n",
       "      <td>2.621474e+09</td>\n",
       "      <td>1</td>\n",
       "      <td>United States</td>\n",
       "      <td>0</td>\n",
       "      <td>00:00:01</td>\n",
       "      <td>1.0</td>\n",
       "    </tr>\n",
       "    <tr>\n",
       "      <th>24</th>\n",
       "      <td>171711</td>\n",
       "      <td>2015-01-11 01:51:15</td>\n",
       "      <td>2015-01-11 01:51:16</td>\n",
       "      <td>52</td>\n",
       "      <td>YPLQGKBAAULUV</td>\n",
       "      <td>Direct</td>\n",
       "      <td>IE</td>\n",
       "      <td>F</td>\n",
       "      <td>35</td>\n",
       "      <td>1.120619e+09</td>\n",
       "      <td>1</td>\n",
       "      <td>United States</td>\n",
       "      <td>0</td>\n",
       "      <td>00:00:01</td>\n",
       "      <td>1.0</td>\n",
       "    </tr>\n",
       "    <tr>\n",
       "      <th>29</th>\n",
       "      <td>151705</td>\n",
       "      <td>2015-01-07 03:44:53</td>\n",
       "      <td>2015-01-07 03:44:54</td>\n",
       "      <td>48</td>\n",
       "      <td>URHCRIXOMLJMH</td>\n",
       "      <td>SEO</td>\n",
       "      <td>Chrome</td>\n",
       "      <td>F</td>\n",
       "      <td>27</td>\n",
       "      <td>2.836025e+09</td>\n",
       "      <td>1</td>\n",
       "      <td>United States</td>\n",
       "      <td>0</td>\n",
       "      <td>00:00:01</td>\n",
       "      <td>1.0</td>\n",
       "    </tr>\n",
       "    <tr>\n",
       "      <th>64</th>\n",
       "      <td>181004</td>\n",
       "      <td>2015-01-07 17:45:16</td>\n",
       "      <td>2015-01-07 17:45:17</td>\n",
       "      <td>10</td>\n",
       "      <td>WETYPHOQVLWMK</td>\n",
       "      <td>Ads</td>\n",
       "      <td>FireFox</td>\n",
       "      <td>M</td>\n",
       "      <td>36</td>\n",
       "      <td>2.293333e+09</td>\n",
       "      <td>1</td>\n",
       "      <td>United States</td>\n",
       "      <td>0</td>\n",
       "      <td>00:00:01</td>\n",
       "      <td>1.0</td>\n",
       "    </tr>\n",
       "    <tr>\n",
       "      <th>...</th>\n",
       "      <td>...</td>\n",
       "      <td>...</td>\n",
       "      <td>...</td>\n",
       "      <td>...</td>\n",
       "      <td>...</td>\n",
       "      <td>...</td>\n",
       "      <td>...</td>\n",
       "      <td>...</td>\n",
       "      <td>...</td>\n",
       "      <td>...</td>\n",
       "      <td>...</td>\n",
       "      <td>...</td>\n",
       "      <td>...</td>\n",
       "      <td>...</td>\n",
       "      <td>...</td>\n",
       "    </tr>\n",
       "    <tr>\n",
       "      <th>151036</th>\n",
       "      <td>330098</td>\n",
       "      <td>2015-01-03 12:52:15</td>\n",
       "      <td>2015-01-03 12:52:16</td>\n",
       "      <td>38</td>\n",
       "      <td>EZENSUHMPLOIW</td>\n",
       "      <td>Ads</td>\n",
       "      <td>Chrome</td>\n",
       "      <td>M</td>\n",
       "      <td>27</td>\n",
       "      <td>2.152700e+08</td>\n",
       "      <td>1</td>\n",
       "      <td>United States</td>\n",
       "      <td>0</td>\n",
       "      <td>00:00:01</td>\n",
       "      <td>1.0</td>\n",
       "    </tr>\n",
       "    <tr>\n",
       "      <th>151082</th>\n",
       "      <td>305464</td>\n",
       "      <td>2015-01-07 09:06:55</td>\n",
       "      <td>2015-01-07 09:06:56</td>\n",
       "      <td>90</td>\n",
       "      <td>TVYSUZLTILQQN</td>\n",
       "      <td>SEO</td>\n",
       "      <td>IE</td>\n",
       "      <td>M</td>\n",
       "      <td>34</td>\n",
       "      <td>3.067794e+09</td>\n",
       "      <td>1</td>\n",
       "      <td>Korea Republic of</td>\n",
       "      <td>0</td>\n",
       "      <td>00:00:01</td>\n",
       "      <td>1.0</td>\n",
       "    </tr>\n",
       "    <tr>\n",
       "      <th>151099</th>\n",
       "      <td>115473</td>\n",
       "      <td>2015-01-01 07:26:14</td>\n",
       "      <td>2015-01-01 07:26:15</td>\n",
       "      <td>61</td>\n",
       "      <td>ZRHCEVZHNIBJH</td>\n",
       "      <td>Direct</td>\n",
       "      <td>IE</td>\n",
       "      <td>M</td>\n",
       "      <td>24</td>\n",
       "      <td>3.003296e+09</td>\n",
       "      <td>1</td>\n",
       "      <td>Chile</td>\n",
       "      <td>0</td>\n",
       "      <td>00:00:01</td>\n",
       "      <td>1.0</td>\n",
       "    </tr>\n",
       "    <tr>\n",
       "      <th>151103</th>\n",
       "      <td>5557</td>\n",
       "      <td>2015-01-04 23:03:04</td>\n",
       "      <td>2015-01-04 23:03:05</td>\n",
       "      <td>27</td>\n",
       "      <td>AWFGZTEHXMWEJ</td>\n",
       "      <td>Direct</td>\n",
       "      <td>Chrome</td>\n",
       "      <td>M</td>\n",
       "      <td>39</td>\n",
       "      <td>3.306999e+09</td>\n",
       "      <td>1</td>\n",
       "      <td>Tunisia</td>\n",
       "      <td>0</td>\n",
       "      <td>00:00:01</td>\n",
       "      <td>1.0</td>\n",
       "    </tr>\n",
       "    <tr>\n",
       "      <th>151104</th>\n",
       "      <td>252360</td>\n",
       "      <td>2015-01-04 09:40:44</td>\n",
       "      <td>2015-01-04 09:40:45</td>\n",
       "      <td>20</td>\n",
       "      <td>GSEYHMCBONPHK</td>\n",
       "      <td>Ads</td>\n",
       "      <td>IE</td>\n",
       "      <td>F</td>\n",
       "      <td>39</td>\n",
       "      <td>2.698870e+09</td>\n",
       "      <td>1</td>\n",
       "      <td>Belgium</td>\n",
       "      <td>0</td>\n",
       "      <td>00:00:01</td>\n",
       "      <td>1.0</td>\n",
       "    </tr>\n",
       "  </tbody>\n",
       "</table>\n",
       "<p>8758 rows × 15 columns</p>\n",
       "</div>"
      ],
      "text/plain": [
       "        user_id         signup_time       purchase_time  purchase_value  \\\n",
       "1        333320 2015-06-07 20:39:50 2015-06-08 01:38:54              16   \n",
       "2          1359 2015-01-01 18:52:44 2015-01-01 18:52:45              15   \n",
       "24       171711 2015-01-11 01:51:15 2015-01-11 01:51:16              52   \n",
       "29       151705 2015-01-07 03:44:53 2015-01-07 03:44:54              48   \n",
       "64       181004 2015-01-07 17:45:16 2015-01-07 17:45:17              10   \n",
       "...         ...                 ...                 ...             ...   \n",
       "151036   330098 2015-01-03 12:52:15 2015-01-03 12:52:16              38   \n",
       "151082   305464 2015-01-07 09:06:55 2015-01-07 09:06:56              90   \n",
       "151099   115473 2015-01-01 07:26:14 2015-01-01 07:26:15              61   \n",
       "151103     5557 2015-01-04 23:03:04 2015-01-04 23:03:05              27   \n",
       "151104   252360 2015-01-04 09:40:44 2015-01-04 09:40:45              20   \n",
       "\n",
       "            device_id  source  browser sex  age    ip_address  class  \\\n",
       "1       EOGFQPIZPYXFZ     Ads   Chrome   F   53  3.503114e+08      0   \n",
       "2       YSSKYOSJHPPLJ     SEO    Opera   M   53  2.621474e+09      1   \n",
       "24      YPLQGKBAAULUV  Direct       IE   F   35  1.120619e+09      1   \n",
       "29      URHCRIXOMLJMH     SEO   Chrome   F   27  2.836025e+09      1   \n",
       "64      WETYPHOQVLWMK     Ads  FireFox   M   36  2.293333e+09      1   \n",
       "...               ...     ...      ...  ..  ...           ...    ...   \n",
       "151036  EZENSUHMPLOIW     Ads   Chrome   M   27  2.152700e+08      1   \n",
       "151082  TVYSUZLTILQQN     SEO       IE   M   34  3.067794e+09      1   \n",
       "151099  ZRHCEVZHNIBJH  Direct       IE   M   24  3.003296e+09      1   \n",
       "151103  AWFGZTEHXMWEJ  Direct   Chrome   M   39  3.306999e+09      1   \n",
       "151104  GSEYHMCBONPHK     Ads       IE   F   39  2.698870e+09      1   \n",
       "\n",
       "                  country  country_na time_diff  time_diff_seconds  \n",
       "1           United States           0  04:59:04            17944.0  \n",
       "2           United States           0  00:00:01                1.0  \n",
       "24          United States           0  00:00:01                1.0  \n",
       "29          United States           0  00:00:01                1.0  \n",
       "64          United States           0  00:00:01                1.0  \n",
       "...                   ...         ...       ...                ...  \n",
       "151036      United States           0  00:00:01                1.0  \n",
       "151082  Korea Republic of           0  00:00:01                1.0  \n",
       "151099              Chile           0  00:00:01                1.0  \n",
       "151103            Tunisia           0  00:00:01                1.0  \n",
       "151104            Belgium           0  00:00:01                1.0  \n",
       "\n",
       "[8758 rows x 15 columns]"
      ]
     },
     "execution_count": 26,
     "metadata": {},
     "output_type": "execute_result"
    }
   ],
   "source": [
    "df[df['time_diff_seconds'] < 86400]\n",
    "# there are 8758 purchases that were made within 1 day after signup"
   ]
  },
  {
   "cell_type": "code",
   "execution_count": 27,
   "metadata": {},
   "outputs": [],
   "source": [
    "# plot out the daily sales, and check any abnormality \n",
    "import datetime as dt\n",
    "df['purchase_date'] = df['purchase_time'].dt.to_period('D')"
   ]
  },
  {
   "cell_type": "code",
   "execution_count": 28,
   "metadata": {},
   "outputs": [
    {
     "data": {
      "text/plain": [
       "purchase_date\n",
       "2015-01-01    19411\n",
       "2015-01-02    27412\n",
       "2015-01-03    20503\n",
       "2015-01-04    21311\n",
       "2015-01-05    21589\n",
       "              ...  \n",
       "2015-12-12      606\n",
       "2015-12-13      654\n",
       "2015-12-14      247\n",
       "2015-12-15       93\n",
       "2015-12-16       57\n",
       "Freq: D, Name: purchase_value, Length: 350, dtype: int64"
      ]
     },
     "execution_count": 28,
     "metadata": {},
     "output_type": "execute_result"
    }
   ],
   "source": [
    "#df_DS\n",
    "df_DS = df.groupby('purchase_date').sum()['purchase_value']\n",
    "df_DS"
   ]
  },
  {
   "cell_type": "code",
   "execution_count": 29,
   "metadata": {},
   "outputs": [
    {
     "data": {
      "text/plain": [
       "<matplotlib.axes._subplots.AxesSubplot at 0x23b04eb7708>"
      ]
     },
     "execution_count": 29,
     "metadata": {},
     "output_type": "execute_result"
    },
    {
     "data": {
      "image/png": "[encoded data removed]",
      "text/plain": [
       "<Figure size 432x288 with 1 Axes>"
      ]
     },
     "metadata": {
      "needs_background": "light"
     },
     "output_type": "display_data"
    }
   ],
   "source": [
    "df_DS.plot()\n",
    "# strange behavior in early Jan"
   ]
  },
  {
   "cell_type": "code",
   "execution_count": 30,
   "metadata": {},
   "outputs": [
    {
     "data": {
      "text/plain": [
       "Period('2015-01-07', 'D')"
      ]
     },
     "execution_count": 30,
     "metadata": {},
     "output_type": "execute_result"
    }
   ],
   "source": [
    "df_DS.idxmax()\n",
    "#2015-01-07 looks like lots of frauds, check the details "
   ]
  },
  {
   "cell_type": "code",
   "execution_count": 31,
   "metadata": {},
   "outputs": [
    {
     "data": {
      "text/html": [
       "<div>\n",
       "<style scoped>\n",
       "    .dataframe tbody tr th:only-of-type {\n",
       "        vertical-align: middle;\n",
       "    }\n",
       "\n",
       "    .dataframe tbody tr th {\n",
       "        vertical-align: top;\n",
       "    }\n",
       "\n",
       "    .dataframe thead th {\n",
       "        text-align: right;\n",
       "    }\n",
       "</style>\n",
       "<table border=\"1\" class=\"dataframe\">\n",
       "  <thead>\n",
       "    <tr style=\"text-align: right;\">\n",
       "      <th></th>\n",
       "      <th>user_id</th>\n",
       "      <th>signup_time</th>\n",
       "      <th>purchase_time</th>\n",
       "      <th>purchase_value</th>\n",
       "      <th>device_id</th>\n",
       "      <th>source</th>\n",
       "      <th>browser</th>\n",
       "      <th>sex</th>\n",
       "      <th>age</th>\n",
       "      <th>ip_address</th>\n",
       "      <th>class</th>\n",
       "      <th>country</th>\n",
       "      <th>country_na</th>\n",
       "      <th>time_diff</th>\n",
       "      <th>time_diff_seconds</th>\n",
       "      <th>purchase_date</th>\n",
       "    </tr>\n",
       "  </thead>\n",
       "  <tbody>\n",
       "    <tr>\n",
       "      <th>29</th>\n",
       "      <td>151705</td>\n",
       "      <td>2015-01-07 03:44:53</td>\n",
       "      <td>2015-01-07 03:44:54</td>\n",
       "      <td>48</td>\n",
       "      <td>URHCRIXOMLJMH</td>\n",
       "      <td>SEO</td>\n",
       "      <td>Chrome</td>\n",
       "      <td>F</td>\n",
       "      <td>27</td>\n",
       "      <td>2.836025e+09</td>\n",
       "      <td>1</td>\n",
       "      <td>United States</td>\n",
       "      <td>0</td>\n",
       "      <td>00:00:01</td>\n",
       "      <td>1.0</td>\n",
       "      <td>2015-01-07</td>\n",
       "    </tr>\n",
       "    <tr>\n",
       "      <th>64</th>\n",
       "      <td>181004</td>\n",
       "      <td>2015-01-07 17:45:16</td>\n",
       "      <td>2015-01-07 17:45:17</td>\n",
       "      <td>10</td>\n",
       "      <td>WETYPHOQVLWMK</td>\n",
       "      <td>Ads</td>\n",
       "      <td>FireFox</td>\n",
       "      <td>M</td>\n",
       "      <td>36</td>\n",
       "      <td>2.293333e+09</td>\n",
       "      <td>1</td>\n",
       "      <td>United States</td>\n",
       "      <td>0</td>\n",
       "      <td>00:00:01</td>\n",
       "      <td>1.0</td>\n",
       "      <td>2015-01-07</td>\n",
       "    </tr>\n",
       "    <tr>\n",
       "      <th>77</th>\n",
       "      <td>392706</td>\n",
       "      <td>2015-01-07 08:15:53</td>\n",
       "      <td>2015-01-07 08:15:54</td>\n",
       "      <td>65</td>\n",
       "      <td>VRYLIRAQJIIIE</td>\n",
       "      <td>SEO</td>\n",
       "      <td>Opera</td>\n",
       "      <td>F</td>\n",
       "      <td>30</td>\n",
       "      <td>1.213105e+09</td>\n",
       "      <td>1</td>\n",
       "      <td>United States</td>\n",
       "      <td>0</td>\n",
       "      <td>00:00:01</td>\n",
       "      <td>1.0</td>\n",
       "      <td>2015-01-07</td>\n",
       "    </tr>\n",
       "    <tr>\n",
       "      <th>175</th>\n",
       "      <td>292922</td>\n",
       "      <td>2015-01-07 11:51:20</td>\n",
       "      <td>2015-01-07 11:51:21</td>\n",
       "      <td>11</td>\n",
       "      <td>LCIDSXJYNIOGD</td>\n",
       "      <td>SEO</td>\n",
       "      <td>IE</td>\n",
       "      <td>M</td>\n",
       "      <td>30</td>\n",
       "      <td>1.447880e+09</td>\n",
       "      <td>1</td>\n",
       "      <td>France</td>\n",
       "      <td>0</td>\n",
       "      <td>00:00:01</td>\n",
       "      <td>1.0</td>\n",
       "      <td>2015-01-07</td>\n",
       "    </tr>\n",
       "    <tr>\n",
       "      <th>193</th>\n",
       "      <td>33840</td>\n",
       "      <td>2015-01-07 14:00:20</td>\n",
       "      <td>2015-01-07 14:00:21</td>\n",
       "      <td>32</td>\n",
       "      <td>NPZFSQBLEKLTN</td>\n",
       "      <td>SEO</td>\n",
       "      <td>Chrome</td>\n",
       "      <td>F</td>\n",
       "      <td>28</td>\n",
       "      <td>3.828716e+09</td>\n",
       "      <td>1</td>\n",
       "      <td>NA</td>\n",
       "      <td>1</td>\n",
       "      <td>00:00:01</td>\n",
       "      <td>1.0</td>\n",
       "      <td>2015-01-07</td>\n",
       "    </tr>\n",
       "    <tr>\n",
       "      <th>...</th>\n",
       "      <td>...</td>\n",
       "      <td>...</td>\n",
       "      <td>...</td>\n",
       "      <td>...</td>\n",
       "      <td>...</td>\n",
       "      <td>...</td>\n",
       "      <td>...</td>\n",
       "      <td>...</td>\n",
       "      <td>...</td>\n",
       "      <td>...</td>\n",
       "      <td>...</td>\n",
       "      <td>...</td>\n",
       "      <td>...</td>\n",
       "      <td>...</td>\n",
       "      <td>...</td>\n",
       "      <td>...</td>\n",
       "    </tr>\n",
       "    <tr>\n",
       "      <th>150101</th>\n",
       "      <td>320857</td>\n",
       "      <td>2015-01-07 04:24:29</td>\n",
       "      <td>2015-01-07 04:24:30</td>\n",
       "      <td>60</td>\n",
       "      <td>EVJECOFJOKOAS</td>\n",
       "      <td>SEO</td>\n",
       "      <td>Chrome</td>\n",
       "      <td>M</td>\n",
       "      <td>28</td>\n",
       "      <td>3.182244e+09</td>\n",
       "      <td>1</td>\n",
       "      <td>Mexico</td>\n",
       "      <td>0</td>\n",
       "      <td>00:00:01</td>\n",
       "      <td>1.0</td>\n",
       "      <td>2015-01-07</td>\n",
       "    </tr>\n",
       "    <tr>\n",
       "      <th>150147</th>\n",
       "      <td>314457</td>\n",
       "      <td>2015-01-07 03:11:43</td>\n",
       "      <td>2015-01-07 03:11:44</td>\n",
       "      <td>46</td>\n",
       "      <td>ISEPGXWJMDUNM</td>\n",
       "      <td>SEO</td>\n",
       "      <td>Chrome</td>\n",
       "      <td>F</td>\n",
       "      <td>45</td>\n",
       "      <td>1.587727e+09</td>\n",
       "      <td>1</td>\n",
       "      <td>Italy</td>\n",
       "      <td>0</td>\n",
       "      <td>00:00:01</td>\n",
       "      <td>1.0</td>\n",
       "      <td>2015-01-07</td>\n",
       "    </tr>\n",
       "    <tr>\n",
       "      <th>150465</th>\n",
       "      <td>286145</td>\n",
       "      <td>2015-01-07 18:28:25</td>\n",
       "      <td>2015-01-07 18:28:26</td>\n",
       "      <td>30</td>\n",
       "      <td>HIBHLJHIVPMDC</td>\n",
       "      <td>Ads</td>\n",
       "      <td>Chrome</td>\n",
       "      <td>F</td>\n",
       "      <td>22</td>\n",
       "      <td>2.107046e+08</td>\n",
       "      <td>1</td>\n",
       "      <td>United States</td>\n",
       "      <td>0</td>\n",
       "      <td>00:00:01</td>\n",
       "      <td>1.0</td>\n",
       "      <td>2015-01-07</td>\n",
       "    </tr>\n",
       "    <tr>\n",
       "      <th>150978</th>\n",
       "      <td>357406</td>\n",
       "      <td>2015-01-07 16:58:01</td>\n",
       "      <td>2015-01-07 16:58:02</td>\n",
       "      <td>15</td>\n",
       "      <td>BWSMVSLCJXMCM</td>\n",
       "      <td>Direct</td>\n",
       "      <td>IE</td>\n",
       "      <td>F</td>\n",
       "      <td>39</td>\n",
       "      <td>2.937899e+09</td>\n",
       "      <td>1</td>\n",
       "      <td>Japan</td>\n",
       "      <td>0</td>\n",
       "      <td>00:00:01</td>\n",
       "      <td>1.0</td>\n",
       "      <td>2015-01-07</td>\n",
       "    </tr>\n",
       "    <tr>\n",
       "      <th>151082</th>\n",
       "      <td>305464</td>\n",
       "      <td>2015-01-07 09:06:55</td>\n",
       "      <td>2015-01-07 09:06:56</td>\n",
       "      <td>90</td>\n",
       "      <td>TVYSUZLTILQQN</td>\n",
       "      <td>SEO</td>\n",
       "      <td>IE</td>\n",
       "      <td>M</td>\n",
       "      <td>34</td>\n",
       "      <td>3.067794e+09</td>\n",
       "      <td>1</td>\n",
       "      <td>Korea Republic of</td>\n",
       "      <td>0</td>\n",
       "      <td>00:00:01</td>\n",
       "      <td>1.0</td>\n",
       "      <td>2015-01-07</td>\n",
       "    </tr>\n",
       "  </tbody>\n",
       "</table>\n",
       "<p>782 rows × 16 columns</p>\n",
       "</div>"
      ],
      "text/plain": [
       "        user_id         signup_time       purchase_time  purchase_value  \\\n",
       "29       151705 2015-01-07 03:44:53 2015-01-07 03:44:54              48   \n",
       "64       181004 2015-01-07 17:45:16 2015-01-07 17:45:17              10   \n",
       "77       392706 2015-01-07 08:15:53 2015-01-07 08:15:54              65   \n",
       "175      292922 2015-01-07 11:51:20 2015-01-07 11:51:21              11   \n",
       "193       33840 2015-01-07 14:00:20 2015-01-07 14:00:21              32   \n",
       "...         ...                 ...                 ...             ...   \n",
       "150101   320857 2015-01-07 04:24:29 2015-01-07 04:24:30              60   \n",
       "150147   314457 2015-01-07 03:11:43 2015-01-07 03:11:44              46   \n",
       "150465   286145 2015-01-07 18:28:25 2015-01-07 18:28:26              30   \n",
       "150978   357406 2015-01-07 16:58:01 2015-01-07 16:58:02              15   \n",
       "151082   305464 2015-01-07 09:06:55 2015-01-07 09:06:56              90   \n",
       "\n",
       "            device_id  source  browser sex  age    ip_address  class  \\\n",
       "29      URHCRIXOMLJMH     SEO   Chrome   F   27  2.836025e+09      1   \n",
       "64      WETYPHOQVLWMK     Ads  FireFox   M   36  2.293333e+09      1   \n",
       "77      VRYLIRAQJIIIE     SEO    Opera   F   30  1.213105e+09      1   \n",
       "175     LCIDSXJYNIOGD     SEO       IE   M   30  1.447880e+09      1   \n",
       "193     NPZFSQBLEKLTN     SEO   Chrome   F   28  3.828716e+09      1   \n",
       "...               ...     ...      ...  ..  ...           ...    ...   \n",
       "150101  EVJECOFJOKOAS     SEO   Chrome   M   28  3.182244e+09      1   \n",
       "150147  ISEPGXWJMDUNM     SEO   Chrome   F   45  1.587727e+09      1   \n",
       "150465  HIBHLJHIVPMDC     Ads   Chrome   F   22  2.107046e+08      1   \n",
       "150978  BWSMVSLCJXMCM  Direct       IE   F   39  2.937899e+09      1   \n",
       "151082  TVYSUZLTILQQN     SEO       IE   M   34  3.067794e+09      1   \n",
       "\n",
       "                  country  country_na time_diff  time_diff_seconds  \\\n",
       "29          United States           0  00:00:01                1.0   \n",
       "64          United States           0  00:00:01                1.0   \n",
       "77          United States           0  00:00:01                1.0   \n",
       "175                France           0  00:00:01                1.0   \n",
       "193                    NA           1  00:00:01                1.0   \n",
       "...                   ...         ...       ...                ...   \n",
       "150101             Mexico           0  00:00:01                1.0   \n",
       "150147              Italy           0  00:00:01                1.0   \n",
       "150465      United States           0  00:00:01                1.0   \n",
       "150978              Japan           0  00:00:01                1.0   \n",
       "151082  Korea Republic of           0  00:00:01                1.0   \n",
       "\n",
       "       purchase_date  \n",
       "29        2015-01-07  \n",
       "64        2015-01-07  \n",
       "77        2015-01-07  \n",
       "175       2015-01-07  \n",
       "193       2015-01-07  \n",
       "...              ...  \n",
       "150101    2015-01-07  \n",
       "150147    2015-01-07  \n",
       "150465    2015-01-07  \n",
       "150978    2015-01-07  \n",
       "151082    2015-01-07  \n",
       "\n",
       "[782 rows x 16 columns]"
      ]
     },
     "execution_count": 31,
     "metadata": {},
     "output_type": "execute_result"
    }
   ],
   "source": [
    "df[df['purchase_date'] == '2015-01-07']"
   ]
  },
  {
   "cell_type": "code",
   "execution_count": 32,
   "metadata": {},
   "outputs": [
    {
     "data": {
      "text/plain": [
       "1.0         750\n",
       "444131.0      1\n",
       "538629.0      1\n",
       "430597.0      1\n",
       "381980.0      1\n",
       "217363.0      1\n",
       "87057.0       1\n",
       "341086.0      1\n",
       "128410.0      1\n",
       "269435.0      1\n",
       "Name: time_diff_seconds, dtype: int64"
      ]
     },
     "execution_count": 32,
     "metadata": {},
     "output_type": "execute_result"
    }
   ],
   "source": [
    "df[df['purchase_date'] == '2015-01-07']['time_diff_seconds'].value_counts().head(10)\n",
    "#this day has 750 purchases that were made 1s after sign up,accounting for a 10% of the total number of within 1s purchase, \\\n",
    "#suggesting fraud behavior "
   ]
  },
  {
   "cell_type": "markdown",
   "metadata": {},
   "source": [
    "#### 2015-01-07 has 750 purchases that were made 1s after sign up,accounting for a 10% of the total number of within 1s purchase, suggesting fraud behavior. time_diff_seconds is definitely an important feature predicting fraud"
   ]
  },
  {
   "cell_type": "code",
   "execution_count": 33,
   "metadata": {},
   "outputs": [
    {
     "data": {
      "text/plain": [
       "ZUSVMDEZRBDTX    20\n",
       "ITUMJCKWEYNDD    20\n",
       "KIPFSCNUGOLDP    20\n",
       "CQTUVBYIWWWBC    20\n",
       "EQYVNEGOFLAWK    20\n",
       "                 ..\n",
       "APKHQJAXXGNLE     1\n",
       "FQSKZRNLWUALE     1\n",
       "KAJBZOLCVMLPK     1\n",
       "LNZMWQSXEFNAN     1\n",
       "YBCFVGAHMAHCE     1\n",
       "Name: device_id, Length: 137956, dtype: int64"
      ]
     },
     "execution_count": 33,
     "metadata": {},
     "output_type": "execute_result"
    }
   ],
   "source": [
    "# check if there are many users using the same device, which could be suspicious \n",
    "df_device = df['device_id'].value_counts()\n",
    "df_device "
   ]
  },
  {
   "cell_type": "code",
   "execution_count": 34,
   "metadata": {},
   "outputs": [
    {
     "data": {
      "text/plain": [
       "<matplotlib.axes._subplots.AxesSubplot at 0x23b056683c8>"
      ]
     },
     "execution_count": 34,
     "metadata": {},
     "output_type": "execute_result"
    },
    {
     "data": {
      "image/png": "[encoded data removed]",
      "text/plain": [
       "<Figure size 432x288 with 1 Axes>"
      ]
     },
     "metadata": {
      "needs_background": "light"
     },
     "output_type": "display_data"
    }
   ],
   "source": [
    "df_device[:2000].plot()"
   ]
  },
  {
   "cell_type": "markdown",
   "metadata": {},
   "source": [
    "### divide device_id into three catagories depending on the total times of being used\n",
    "###  2 (below 5 times), 1 (5-15 times), 0 (15-20 times)"
   ]
  },
  {
   "cell_type": "code",
   "execution_count": 35,
   "metadata": {},
   "outputs": [
    {
     "data": {
      "text/plain": [
       "111"
      ]
     },
     "execution_count": 35,
     "metadata": {},
     "output_type": "execute_result"
    }
   ],
   "source": [
    "index1 = df_device[df_device>=15].index\n",
    "len(index1)"
   ]
  },
  {
   "cell_type": "code",
   "execution_count": 36,
   "metadata": {},
   "outputs": [
    {
     "data": {
      "text/plain": [
       "630"
      ]
     },
     "execution_count": 36,
     "metadata": {},
     "output_type": "execute_result"
    }
   ],
   "source": [
    "index2 = df_device[(df_device < 15) & (df_device >5)].index\n",
    "len(index2)"
   ]
  },
  {
   "cell_type": "code",
   "execution_count": 37,
   "metadata": {},
   "outputs": [
    {
     "data": {
      "text/plain": [
       "137215"
      ]
     },
     "execution_count": 37,
     "metadata": {},
     "output_type": "execute_result"
    }
   ],
   "source": [
    "index3 = df_device[df_device <=5].index\n",
    "len(index3)"
   ]
  },
  {
   "cell_type": "code",
   "execution_count": 38,
   "metadata": {},
   "outputs": [
    {
     "data": {
      "text/html": [
       "<div>\n",
       "<style scoped>\n",
       "    .dataframe tbody tr th:only-of-type {\n",
       "        vertical-align: middle;\n",
       "    }\n",
       "\n",
       "    .dataframe tbody tr th {\n",
       "        vertical-align: top;\n",
       "    }\n",
       "\n",
       "    .dataframe thead th {\n",
       "        text-align: right;\n",
       "    }\n",
       "</style>\n",
       "<table border=\"1\" class=\"dataframe\">\n",
       "  <thead>\n",
       "    <tr style=\"text-align: right;\">\n",
       "      <th></th>\n",
       "      <th>user_id</th>\n",
       "      <th>signup_time</th>\n",
       "      <th>purchase_time</th>\n",
       "      <th>purchase_value</th>\n",
       "      <th>device_id</th>\n",
       "      <th>source</th>\n",
       "      <th>browser</th>\n",
       "      <th>sex</th>\n",
       "      <th>age</th>\n",
       "      <th>ip_address</th>\n",
       "      <th>class</th>\n",
       "      <th>country</th>\n",
       "      <th>country_na</th>\n",
       "      <th>time_diff</th>\n",
       "      <th>time_diff_seconds</th>\n",
       "      <th>purchase_date</th>\n",
       "    </tr>\n",
       "  </thead>\n",
       "  <tbody>\n",
       "    <tr>\n",
       "      <th>0</th>\n",
       "      <td>22058</td>\n",
       "      <td>2015-02-24 22:55:49</td>\n",
       "      <td>2015-04-18 02:47:11</td>\n",
       "      <td>34</td>\n",
       "      <td>QVPSPJUOCKZAR</td>\n",
       "      <td>SEO</td>\n",
       "      <td>Chrome</td>\n",
       "      <td>M</td>\n",
       "      <td>39</td>\n",
       "      <td>7.327584e+08</td>\n",
       "      <td>0</td>\n",
       "      <td>Japan</td>\n",
       "      <td>0</td>\n",
       "      <td>52 days 03:51:22</td>\n",
       "      <td>4506682.0</td>\n",
       "      <td>2015-04-18</td>\n",
       "    </tr>\n",
       "    <tr>\n",
       "      <th>1</th>\n",
       "      <td>333320</td>\n",
       "      <td>2015-06-07 20:39:50</td>\n",
       "      <td>2015-06-08 01:38:54</td>\n",
       "      <td>16</td>\n",
       "      <td>EOGFQPIZPYXFZ</td>\n",
       "      <td>Ads</td>\n",
       "      <td>Chrome</td>\n",
       "      <td>F</td>\n",
       "      <td>53</td>\n",
       "      <td>3.503114e+08</td>\n",
       "      <td>0</td>\n",
       "      <td>United States</td>\n",
       "      <td>0</td>\n",
       "      <td>0 days 04:59:04</td>\n",
       "      <td>17944.0</td>\n",
       "      <td>2015-06-08</td>\n",
       "    </tr>\n",
       "    <tr>\n",
       "      <th>2</th>\n",
       "      <td>1359</td>\n",
       "      <td>2015-01-01 18:52:44</td>\n",
       "      <td>2015-01-01 18:52:45</td>\n",
       "      <td>15</td>\n",
       "      <td>YSSKYOSJHPPLJ</td>\n",
       "      <td>SEO</td>\n",
       "      <td>Opera</td>\n",
       "      <td>M</td>\n",
       "      <td>53</td>\n",
       "      <td>2.621474e+09</td>\n",
       "      <td>1</td>\n",
       "      <td>United States</td>\n",
       "      <td>0</td>\n",
       "      <td>0 days 00:00:01</td>\n",
       "      <td>1.0</td>\n",
       "      <td>2015-01-01</td>\n",
       "    </tr>\n",
       "    <tr>\n",
       "      <th>3</th>\n",
       "      <td>150084</td>\n",
       "      <td>2015-04-28 21:13:25</td>\n",
       "      <td>2015-05-04 13:54:50</td>\n",
       "      <td>44</td>\n",
       "      <td>ATGTXKYKUDUQN</td>\n",
       "      <td>SEO</td>\n",
       "      <td>Safari</td>\n",
       "      <td>M</td>\n",
       "      <td>41</td>\n",
       "      <td>3.840542e+09</td>\n",
       "      <td>0</td>\n",
       "      <td>NA</td>\n",
       "      <td>0</td>\n",
       "      <td>5 days 16:41:25</td>\n",
       "      <td>492085.0</td>\n",
       "      <td>2015-05-04</td>\n",
       "    </tr>\n",
       "    <tr>\n",
       "      <th>4</th>\n",
       "      <td>221365</td>\n",
       "      <td>2015-07-21 07:09:52</td>\n",
       "      <td>2015-09-09 18:40:53</td>\n",
       "      <td>39</td>\n",
       "      <td>NAUITBZFJKHWW</td>\n",
       "      <td>Ads</td>\n",
       "      <td>Safari</td>\n",
       "      <td>M</td>\n",
       "      <td>45</td>\n",
       "      <td>4.155831e+08</td>\n",
       "      <td>0</td>\n",
       "      <td>United States</td>\n",
       "      <td>0</td>\n",
       "      <td>50 days 11:31:01</td>\n",
       "      <td>4361461.0</td>\n",
       "      <td>2015-09-09</td>\n",
       "    </tr>\n",
       "  </tbody>\n",
       "</table>\n",
       "</div>"
      ],
      "text/plain": [
       "   user_id         signup_time       purchase_time  purchase_value  \\\n",
       "0    22058 2015-02-24 22:55:49 2015-04-18 02:47:11              34   \n",
       "1   333320 2015-06-07 20:39:50 2015-06-08 01:38:54              16   \n",
       "2     1359 2015-01-01 18:52:44 2015-01-01 18:52:45              15   \n",
       "3   150084 2015-04-28 21:13:25 2015-05-04 13:54:50              44   \n",
       "4   221365 2015-07-21 07:09:52 2015-09-09 18:40:53              39   \n",
       "\n",
       "       device_id source browser sex  age    ip_address  class        country  \\\n",
       "0  QVPSPJUOCKZAR    SEO  Chrome   M   39  7.327584e+08      0          Japan   \n",
       "1  EOGFQPIZPYXFZ    Ads  Chrome   F   53  3.503114e+08      0  United States   \n",
       "2  YSSKYOSJHPPLJ    SEO   Opera   M   53  2.621474e+09      1  United States   \n",
       "3  ATGTXKYKUDUQN    SEO  Safari   M   41  3.840542e+09      0             NA   \n",
       "4  NAUITBZFJKHWW    Ads  Safari   M   45  4.155831e+08      0  United States   \n",
       "\n",
       "   country_na        time_diff  time_diff_seconds purchase_date  \n",
       "0           0 52 days 03:51:22          4506682.0    2015-04-18  \n",
       "1           0  0 days 04:59:04            17944.0    2015-06-08  \n",
       "2           0  0 days 00:00:01                1.0    2015-01-01  \n",
       "3           0  5 days 16:41:25           492085.0    2015-05-04  \n",
       "4           0 50 days 11:31:01          4361461.0    2015-09-09  "
      ]
     },
     "execution_count": 38,
     "metadata": {},
     "output_type": "execute_result"
    }
   ],
   "source": [
    "df.head()"
   ]
  },
  {
   "cell_type": "code",
   "execution_count": 39,
   "metadata": {},
   "outputs": [],
   "source": [
    "device_id = []\n",
    "for i in range(len(df)):\n",
    "    if df['device_id'].iloc[i] in index1:\n",
    "        device_id.append(0)\n",
    "    elif df['device_id'].iloc[i] in index2:\n",
    "        device_id.append(1)\n",
    "    else: \n",
    "        device_id.append(2)\n",
    "df['device_id_Three'] = device_id"
   ]
  },
  {
   "cell_type": "code",
   "execution_count": 40,
   "metadata": {},
   "outputs": [
    {
     "data": {
      "text/html": [
       "<div>\n",
       "<style scoped>\n",
       "    .dataframe tbody tr th:only-of-type {\n",
       "        vertical-align: middle;\n",
       "    }\n",
       "\n",
       "    .dataframe tbody tr th {\n",
       "        vertical-align: top;\n",
       "    }\n",
       "\n",
       "    .dataframe thead th {\n",
       "        text-align: right;\n",
       "    }\n",
       "</style>\n",
       "<table border=\"1\" class=\"dataframe\">\n",
       "  <thead>\n",
       "    <tr style=\"text-align: right;\">\n",
       "      <th></th>\n",
       "      <th>user_id</th>\n",
       "      <th>signup_time</th>\n",
       "      <th>purchase_time</th>\n",
       "      <th>purchase_value</th>\n",
       "      <th>device_id</th>\n",
       "      <th>source</th>\n",
       "      <th>browser</th>\n",
       "      <th>sex</th>\n",
       "      <th>age</th>\n",
       "      <th>ip_address</th>\n",
       "      <th>class</th>\n",
       "      <th>country</th>\n",
       "      <th>country_na</th>\n",
       "      <th>time_diff</th>\n",
       "      <th>time_diff_seconds</th>\n",
       "      <th>purchase_date</th>\n",
       "      <th>device_id_Three</th>\n",
       "    </tr>\n",
       "  </thead>\n",
       "  <tbody>\n",
       "    <tr>\n",
       "      <th>83</th>\n",
       "      <td>67592</td>\n",
       "      <td>2015-01-10 23:23:25</td>\n",
       "      <td>2015-01-10 23:23:26</td>\n",
       "      <td>38</td>\n",
       "      <td>ITUMJCKWEYNDD</td>\n",
       "      <td>Ads</td>\n",
       "      <td>Safari</td>\n",
       "      <td>M</td>\n",
       "      <td>43</td>\n",
       "      <td>3.874758e+09</td>\n",
       "      <td>1</td>\n",
       "      <td>NA</td>\n",
       "      <td>1</td>\n",
       "      <td>0 days 00:00:01</td>\n",
       "      <td>1.0</td>\n",
       "      <td>2015-01-10</td>\n",
       "      <td>0</td>\n",
       "    </tr>\n",
       "    <tr>\n",
       "      <th>134</th>\n",
       "      <td>104061</td>\n",
       "      <td>2015-01-05 00:09:57</td>\n",
       "      <td>2015-01-05 00:09:58</td>\n",
       "      <td>23</td>\n",
       "      <td>XSEQHFFOYFICY</td>\n",
       "      <td>SEO</td>\n",
       "      <td>IE</td>\n",
       "      <td>M</td>\n",
       "      <td>33</td>\n",
       "      <td>2.011989e+09</td>\n",
       "      <td>1</td>\n",
       "      <td>Hong Kong</td>\n",
       "      <td>0</td>\n",
       "      <td>0 days 00:00:01</td>\n",
       "      <td>1.0</td>\n",
       "      <td>2015-01-05</td>\n",
       "      <td>0</td>\n",
       "    </tr>\n",
       "    <tr>\n",
       "      <th>190</th>\n",
       "      <td>170138</td>\n",
       "      <td>2015-01-08 09:32:59</td>\n",
       "      <td>2015-01-08 09:33:00</td>\n",
       "      <td>14</td>\n",
       "      <td>GTIYVLCMAYBFA</td>\n",
       "      <td>Ads</td>\n",
       "      <td>FireFox</td>\n",
       "      <td>M</td>\n",
       "      <td>39</td>\n",
       "      <td>2.141692e+09</td>\n",
       "      <td>1</td>\n",
       "      <td>NA</td>\n",
       "      <td>1</td>\n",
       "      <td>0 days 00:00:01</td>\n",
       "      <td>1.0</td>\n",
       "      <td>2015-01-08</td>\n",
       "      <td>0</td>\n",
       "    </tr>\n",
       "    <tr>\n",
       "      <th>193</th>\n",
       "      <td>33840</td>\n",
       "      <td>2015-01-07 14:00:20</td>\n",
       "      <td>2015-01-07 14:00:21</td>\n",
       "      <td>32</td>\n",
       "      <td>NPZFSQBLEKLTN</td>\n",
       "      <td>SEO</td>\n",
       "      <td>Chrome</td>\n",
       "      <td>F</td>\n",
       "      <td>28</td>\n",
       "      <td>3.828716e+09</td>\n",
       "      <td>1</td>\n",
       "      <td>NA</td>\n",
       "      <td>1</td>\n",
       "      <td>0 days 00:00:01</td>\n",
       "      <td>1.0</td>\n",
       "      <td>2015-01-07</td>\n",
       "      <td>0</td>\n",
       "    </tr>\n",
       "    <tr>\n",
       "      <th>219</th>\n",
       "      <td>334731</td>\n",
       "      <td>2015-01-08 23:28:13</td>\n",
       "      <td>2015-01-08 23:28:14</td>\n",
       "      <td>17</td>\n",
       "      <td>AYUBPYPDVZUPK</td>\n",
       "      <td>Ads</td>\n",
       "      <td>IE</td>\n",
       "      <td>M</td>\n",
       "      <td>29</td>\n",
       "      <td>1.045057e+09</td>\n",
       "      <td>1</td>\n",
       "      <td>Greece</td>\n",
       "      <td>0</td>\n",
       "      <td>0 days 00:00:01</td>\n",
       "      <td>1.0</td>\n",
       "      <td>2015-01-08</td>\n",
       "      <td>0</td>\n",
       "    </tr>\n",
       "    <tr>\n",
       "      <th>...</th>\n",
       "      <td>...</td>\n",
       "      <td>...</td>\n",
       "      <td>...</td>\n",
       "      <td>...</td>\n",
       "      <td>...</td>\n",
       "      <td>...</td>\n",
       "      <td>...</td>\n",
       "      <td>...</td>\n",
       "      <td>...</td>\n",
       "      <td>...</td>\n",
       "      <td>...</td>\n",
       "      <td>...</td>\n",
       "      <td>...</td>\n",
       "      <td>...</td>\n",
       "      <td>...</td>\n",
       "      <td>...</td>\n",
       "      <td>...</td>\n",
       "    </tr>\n",
       "    <tr>\n",
       "      <th>150619</th>\n",
       "      <td>67350</td>\n",
       "      <td>2015-08-10 14:34:34</td>\n",
       "      <td>2015-11-27 00:49:35</td>\n",
       "      <td>60</td>\n",
       "      <td>ECSJFQBUBSKDH</td>\n",
       "      <td>SEO</td>\n",
       "      <td>Chrome</td>\n",
       "      <td>M</td>\n",
       "      <td>19</td>\n",
       "      <td>1.696626e+09</td>\n",
       "      <td>0</td>\n",
       "      <td>China</td>\n",
       "      <td>0</td>\n",
       "      <td>108 days 10:15:01</td>\n",
       "      <td>9368101.0</td>\n",
       "      <td>2015-11-27</td>\n",
       "      <td>0</td>\n",
       "    </tr>\n",
       "    <tr>\n",
       "      <th>150756</th>\n",
       "      <td>164880</td>\n",
       "      <td>2015-01-02 19:44:47</td>\n",
       "      <td>2015-01-02 19:44:48</td>\n",
       "      <td>49</td>\n",
       "      <td>IXNWEKWJGNLNH</td>\n",
       "      <td>SEO</td>\n",
       "      <td>Safari</td>\n",
       "      <td>M</td>\n",
       "      <td>19</td>\n",
       "      <td>2.171613e+09</td>\n",
       "      <td>1</td>\n",
       "      <td>United States</td>\n",
       "      <td>0</td>\n",
       "      <td>0 days 00:00:01</td>\n",
       "      <td>1.0</td>\n",
       "      <td>2015-01-02</td>\n",
       "      <td>0</td>\n",
       "    </tr>\n",
       "    <tr>\n",
       "      <th>150763</th>\n",
       "      <td>64352</td>\n",
       "      <td>2015-01-11 09:32:54</td>\n",
       "      <td>2015-01-11 09:32:55</td>\n",
       "      <td>20</td>\n",
       "      <td>EBIXBHKGUHCZE</td>\n",
       "      <td>SEO</td>\n",
       "      <td>Chrome</td>\n",
       "      <td>F</td>\n",
       "      <td>18</td>\n",
       "      <td>3.820048e+09</td>\n",
       "      <td>1</td>\n",
       "      <td>NA</td>\n",
       "      <td>1</td>\n",
       "      <td>0 days 00:00:01</td>\n",
       "      <td>1.0</td>\n",
       "      <td>2015-01-11</td>\n",
       "      <td>0</td>\n",
       "    </tr>\n",
       "    <tr>\n",
       "      <th>150797</th>\n",
       "      <td>75490</td>\n",
       "      <td>2015-01-04 17:22:38</td>\n",
       "      <td>2015-01-04 17:22:39</td>\n",
       "      <td>71</td>\n",
       "      <td>RWZCXZTQUORQL</td>\n",
       "      <td>Direct</td>\n",
       "      <td>Chrome</td>\n",
       "      <td>M</td>\n",
       "      <td>45</td>\n",
       "      <td>1.281304e+09</td>\n",
       "      <td>1</td>\n",
       "      <td>United States</td>\n",
       "      <td>0</td>\n",
       "      <td>0 days 00:00:01</td>\n",
       "      <td>1.0</td>\n",
       "      <td>2015-01-04</td>\n",
       "      <td>0</td>\n",
       "    </tr>\n",
       "    <tr>\n",
       "      <th>150978</th>\n",
       "      <td>357406</td>\n",
       "      <td>2015-01-07 16:58:01</td>\n",
       "      <td>2015-01-07 16:58:02</td>\n",
       "      <td>15</td>\n",
       "      <td>BWSMVSLCJXMCM</td>\n",
       "      <td>Direct</td>\n",
       "      <td>IE</td>\n",
       "      <td>F</td>\n",
       "      <td>39</td>\n",
       "      <td>2.937899e+09</td>\n",
       "      <td>1</td>\n",
       "      <td>Japan</td>\n",
       "      <td>0</td>\n",
       "      <td>0 days 00:00:01</td>\n",
       "      <td>1.0</td>\n",
       "      <td>2015-01-07</td>\n",
       "      <td>0</td>\n",
       "    </tr>\n",
       "  </tbody>\n",
       "</table>\n",
       "<p>1807 rows × 17 columns</p>\n",
       "</div>"
      ],
      "text/plain": [
       "        user_id         signup_time       purchase_time  purchase_value  \\\n",
       "83        67592 2015-01-10 23:23:25 2015-01-10 23:23:26              38   \n",
       "134      104061 2015-01-05 00:09:57 2015-01-05 00:09:58              23   \n",
       "190      170138 2015-01-08 09:32:59 2015-01-08 09:33:00              14   \n",
       "193       33840 2015-01-07 14:00:20 2015-01-07 14:00:21              32   \n",
       "219      334731 2015-01-08 23:28:13 2015-01-08 23:28:14              17   \n",
       "...         ...                 ...                 ...             ...   \n",
       "150619    67350 2015-08-10 14:34:34 2015-11-27 00:49:35              60   \n",
       "150756   164880 2015-01-02 19:44:47 2015-01-02 19:44:48              49   \n",
       "150763    64352 2015-01-11 09:32:54 2015-01-11 09:32:55              20   \n",
       "150797    75490 2015-01-04 17:22:38 2015-01-04 17:22:39              71   \n",
       "150978   357406 2015-01-07 16:58:01 2015-01-07 16:58:02              15   \n",
       "\n",
       "            device_id  source  browser sex  age    ip_address  class  \\\n",
       "83      ITUMJCKWEYNDD     Ads   Safari   M   43  3.874758e+09      1   \n",
       "134     XSEQHFFOYFICY     SEO       IE   M   33  2.011989e+09      1   \n",
       "190     GTIYVLCMAYBFA     Ads  FireFox   M   39  2.141692e+09      1   \n",
       "193     NPZFSQBLEKLTN     SEO   Chrome   F   28  3.828716e+09      1   \n",
       "219     AYUBPYPDVZUPK     Ads       IE   M   29  1.045057e+09      1   \n",
       "...               ...     ...      ...  ..  ...           ...    ...   \n",
       "150619  ECSJFQBUBSKDH     SEO   Chrome   M   19  1.696626e+09      0   \n",
       "150756  IXNWEKWJGNLNH     SEO   Safari   M   19  2.171613e+09      1   \n",
       "150763  EBIXBHKGUHCZE     SEO   Chrome   F   18  3.820048e+09      1   \n",
       "150797  RWZCXZTQUORQL  Direct   Chrome   M   45  1.281304e+09      1   \n",
       "150978  BWSMVSLCJXMCM  Direct       IE   F   39  2.937899e+09      1   \n",
       "\n",
       "              country  country_na         time_diff  time_diff_seconds  \\\n",
       "83                 NA           1   0 days 00:00:01                1.0   \n",
       "134         Hong Kong           0   0 days 00:00:01                1.0   \n",
       "190                NA           1   0 days 00:00:01                1.0   \n",
       "193                NA           1   0 days 00:00:01                1.0   \n",
       "219            Greece           0   0 days 00:00:01                1.0   \n",
       "...               ...         ...               ...                ...   \n",
       "150619          China           0 108 days 10:15:01          9368101.0   \n",
       "150756  United States           0   0 days 00:00:01                1.0   \n",
       "150763             NA           1   0 days 00:00:01                1.0   \n",
       "150797  United States           0   0 days 00:00:01                1.0   \n",
       "150978          Japan           0   0 days 00:00:01                1.0   \n",
       "\n",
       "       purchase_date  device_id_Three  \n",
       "83        2015-01-10                0  \n",
       "134       2015-01-05                0  \n",
       "190       2015-01-08                0  \n",
       "193       2015-01-07                0  \n",
       "219       2015-01-08                0  \n",
       "...              ...              ...  \n",
       "150619    2015-11-27                0  \n",
       "150756    2015-01-02                0  \n",
       "150763    2015-01-11                0  \n",
       "150797    2015-01-04                0  \n",
       "150978    2015-01-07                0  \n",
       "\n",
       "[1807 rows x 17 columns]"
      ]
     },
     "execution_count": 40,
     "metadata": {},
     "output_type": "execute_result"
    }
   ],
   "source": [
    "df[df['device_id_Three'] == 0]"
   ]
  },
  {
   "cell_type": "markdown",
   "metadata": {},
   "source": [
    "### convert catagorical to numertical "
   ]
  },
  {
   "cell_type": "code",
   "execution_count": 41,
   "metadata": {},
   "outputs": [],
   "source": [
    "df = pd.get_dummies(columns =['sex','source','browser'],data =df, drop_first = True)"
   ]
  },
  {
   "cell_type": "code",
   "execution_count": 42,
   "metadata": {},
   "outputs": [],
   "source": [
    "df.drop('device_id',axis=1,inplace=True)"
   ]
  },
  {
   "cell_type": "code",
   "execution_count": 43,
   "metadata": {},
   "outputs": [
    {
     "data": {
      "text/html": [
       "<div>\n",
       "<style scoped>\n",
       "    .dataframe tbody tr th:only-of-type {\n",
       "        vertical-align: middle;\n",
       "    }\n",
       "\n",
       "    .dataframe tbody tr th {\n",
       "        vertical-align: top;\n",
       "    }\n",
       "\n",
       "    .dataframe thead th {\n",
       "        text-align: right;\n",
       "    }\n",
       "</style>\n",
       "<table border=\"1\" class=\"dataframe\">\n",
       "  <thead>\n",
       "    <tr style=\"text-align: right;\">\n",
       "      <th></th>\n",
       "      <th>user_id</th>\n",
       "      <th>signup_time</th>\n",
       "      <th>purchase_time</th>\n",
       "      <th>purchase_value</th>\n",
       "      <th>age</th>\n",
       "      <th>ip_address</th>\n",
       "      <th>class</th>\n",
       "      <th>country</th>\n",
       "      <th>country_na</th>\n",
       "      <th>time_diff</th>\n",
       "      <th>time_diff_seconds</th>\n",
       "      <th>purchase_date</th>\n",
       "      <th>device_id_Three</th>\n",
       "      <th>sex_M</th>\n",
       "      <th>source_Direct</th>\n",
       "      <th>source_SEO</th>\n",
       "      <th>browser_FireFox</th>\n",
       "      <th>browser_IE</th>\n",
       "      <th>browser_Opera</th>\n",
       "      <th>browser_Safari</th>\n",
       "    </tr>\n",
       "  </thead>\n",
       "  <tbody>\n",
       "    <tr>\n",
       "      <th>0</th>\n",
       "      <td>22058</td>\n",
       "      <td>2015-02-24 22:55:49</td>\n",
       "      <td>2015-04-18 02:47:11</td>\n",
       "      <td>34</td>\n",
       "      <td>39</td>\n",
       "      <td>7.327584e+08</td>\n",
       "      <td>0</td>\n",
       "      <td>Japan</td>\n",
       "      <td>0</td>\n",
       "      <td>52 days 03:51:22</td>\n",
       "      <td>4506682.0</td>\n",
       "      <td>2015-04-18</td>\n",
       "      <td>2</td>\n",
       "      <td>1</td>\n",
       "      <td>0</td>\n",
       "      <td>1</td>\n",
       "      <td>0</td>\n",
       "      <td>0</td>\n",
       "      <td>0</td>\n",
       "      <td>0</td>\n",
       "    </tr>\n",
       "    <tr>\n",
       "      <th>1</th>\n",
       "      <td>333320</td>\n",
       "      <td>2015-06-07 20:39:50</td>\n",
       "      <td>2015-06-08 01:38:54</td>\n",
       "      <td>16</td>\n",
       "      <td>53</td>\n",
       "      <td>3.503114e+08</td>\n",
       "      <td>0</td>\n",
       "      <td>United States</td>\n",
       "      <td>0</td>\n",
       "      <td>0 days 04:59:04</td>\n",
       "      <td>17944.0</td>\n",
       "      <td>2015-06-08</td>\n",
       "      <td>2</td>\n",
       "      <td>0</td>\n",
       "      <td>0</td>\n",
       "      <td>0</td>\n",
       "      <td>0</td>\n",
       "      <td>0</td>\n",
       "      <td>0</td>\n",
       "      <td>0</td>\n",
       "    </tr>\n",
       "    <tr>\n",
       "      <th>2</th>\n",
       "      <td>1359</td>\n",
       "      <td>2015-01-01 18:52:44</td>\n",
       "      <td>2015-01-01 18:52:45</td>\n",
       "      <td>15</td>\n",
       "      <td>53</td>\n",
       "      <td>2.621474e+09</td>\n",
       "      <td>1</td>\n",
       "      <td>United States</td>\n",
       "      <td>0</td>\n",
       "      <td>0 days 00:00:01</td>\n",
       "      <td>1.0</td>\n",
       "      <td>2015-01-01</td>\n",
       "      <td>1</td>\n",
       "      <td>1</td>\n",
       "      <td>0</td>\n",
       "      <td>1</td>\n",
       "      <td>0</td>\n",
       "      <td>0</td>\n",
       "      <td>1</td>\n",
       "      <td>0</td>\n",
       "    </tr>\n",
       "    <tr>\n",
       "      <th>3</th>\n",
       "      <td>150084</td>\n",
       "      <td>2015-04-28 21:13:25</td>\n",
       "      <td>2015-05-04 13:54:50</td>\n",
       "      <td>44</td>\n",
       "      <td>41</td>\n",
       "      <td>3.840542e+09</td>\n",
       "      <td>0</td>\n",
       "      <td>NA</td>\n",
       "      <td>0</td>\n",
       "      <td>5 days 16:41:25</td>\n",
       "      <td>492085.0</td>\n",
       "      <td>2015-05-04</td>\n",
       "      <td>2</td>\n",
       "      <td>1</td>\n",
       "      <td>0</td>\n",
       "      <td>1</td>\n",
       "      <td>0</td>\n",
       "      <td>0</td>\n",
       "      <td>0</td>\n",
       "      <td>1</td>\n",
       "    </tr>\n",
       "    <tr>\n",
       "      <th>4</th>\n",
       "      <td>221365</td>\n",
       "      <td>2015-07-21 07:09:52</td>\n",
       "      <td>2015-09-09 18:40:53</td>\n",
       "      <td>39</td>\n",
       "      <td>45</td>\n",
       "      <td>4.155831e+08</td>\n",
       "      <td>0</td>\n",
       "      <td>United States</td>\n",
       "      <td>0</td>\n",
       "      <td>50 days 11:31:01</td>\n",
       "      <td>4361461.0</td>\n",
       "      <td>2015-09-09</td>\n",
       "      <td>2</td>\n",
       "      <td>1</td>\n",
       "      <td>0</td>\n",
       "      <td>0</td>\n",
       "      <td>0</td>\n",
       "      <td>0</td>\n",
       "      <td>0</td>\n",
       "      <td>1</td>\n",
       "    </tr>\n",
       "  </tbody>\n",
       "</table>\n",
       "</div>"
      ],
      "text/plain": [
       "   user_id         signup_time       purchase_time  purchase_value  age  \\\n",
       "0    22058 2015-02-24 22:55:49 2015-04-18 02:47:11              34   39   \n",
       "1   333320 2015-06-07 20:39:50 2015-06-08 01:38:54              16   53   \n",
       "2     1359 2015-01-01 18:52:44 2015-01-01 18:52:45              15   53   \n",
       "3   150084 2015-04-28 21:13:25 2015-05-04 13:54:50              44   41   \n",
       "4   221365 2015-07-21 07:09:52 2015-09-09 18:40:53              39   45   \n",
       "\n",
       "     ip_address  class        country  country_na        time_diff  \\\n",
       "0  7.327584e+08      0          Japan           0 52 days 03:51:22   \n",
       "1  3.503114e+08      0  United States           0  0 days 04:59:04   \n",
       "2  2.621474e+09      1  United States           0  0 days 00:00:01   \n",
       "3  3.840542e+09      0             NA           0  5 days 16:41:25   \n",
       "4  4.155831e+08      0  United States           0 50 days 11:31:01   \n",
       "\n",
       "   time_diff_seconds purchase_date  device_id_Three  sex_M  source_Direct  \\\n",
       "0          4506682.0    2015-04-18                2      1              0   \n",
       "1            17944.0    2015-06-08                2      0              0   \n",
       "2                1.0    2015-01-01                1      1              0   \n",
       "3           492085.0    2015-05-04                2      1              0   \n",
       "4          4361461.0    2015-09-09                2      1              0   \n",
       "\n",
       "   source_SEO  browser_FireFox  browser_IE  browser_Opera  browser_Safari  \n",
       "0           1                0           0              0               0  \n",
       "1           0                0           0              0               0  \n",
       "2           1                0           0              1               0  \n",
       "3           1                0           0              0               1  \n",
       "4           0                0           0              0               1  "
      ]
     },
     "execution_count": 43,
     "metadata": {},
     "output_type": "execute_result"
    }
   ],
   "source": [
    "df.head()"
   ]
  },
  {
   "cell_type": "code",
   "execution_count": 44,
   "metadata": {},
   "outputs": [
    {
     "data": {
      "text/plain": [
       "United States        58049\n",
       "NA                   21966\n",
       "China                12038\n",
       "Japan                 7306\n",
       "United Kingdom        4490\n",
       "Korea Republic of     4162\n",
       "Germany               3646\n",
       "France                3161\n",
       "Canada                2975\n",
       "Brazil                2961\n",
       "Name: country, dtype: int64"
      ]
     },
     "execution_count": 44,
     "metadata": {},
     "output_type": "execute_result"
    }
   ],
   "source": [
    "df['country'].value_counts().head(10)"
   ]
  },
  {
   "cell_type": "code",
   "execution_count": 45,
   "metadata": {},
   "outputs": [
    {
     "data": {
      "text/plain": [
       "Index(['United States', 'NA', 'China', 'Japan', 'United Kingdom',\n",
       "       'Korea Republic of', 'Germany', 'France', 'Canada', 'Brazil'],\n",
       "      dtype='object')"
      ]
     },
     "execution_count": 45,
     "metadata": {},
     "output_type": "execute_result"
    }
   ],
   "source": [
    "df['country'].value_counts().index[:10]"
   ]
  },
  {
   "cell_type": "code",
   "execution_count": 46,
   "metadata": {},
   "outputs": [
    {
     "data": {
      "text/plain": [
       "<matplotlib.axes._subplots.AxesSubplot at 0x23b05660e48>"
      ]
     },
     "execution_count": 46,
     "metadata": {},
     "output_type": "execute_result"
    },
    {
     "data": {
      "image/png": "[encoded data removed]",
      "text/plain": [
       "<Figure size 864x432 with 1 Axes>"
      ]
     },
     "metadata": {
      "needs_background": "light"
     },
     "output_type": "display_data"
    }
   ],
   "source": [
    "#check if certain country (top total fraud cases) has a higher fraud rate\n",
    "plt.figure(figsize=(12,6))\n",
    "sns.barplot('country','class', data = df[df['country'].isin(df['country'].value_counts().index[:10])])"
   ]
  },
  {
   "cell_type": "code",
   "execution_count": 47,
   "metadata": {},
   "outputs": [],
   "source": [
    "#40 countries which have the highest fraud rate (10%)\n",
    "Top40Countreis = df.groupby('country').mean()['class'].sort_values(ascending = False).head(40).index"
   ]
  },
  {
   "cell_type": "code",
   "execution_count": 48,
   "metadata": {},
   "outputs": [],
   "source": [
    "#divide the country column into 2 catagories (high fraud rate - 0, the rest - 1)\n",
    "df['country'] = np.where(df['country'].isin(Top40Countreis), 0, 1)"
   ]
  },
  {
   "cell_type": "code",
   "execution_count": 49,
   "metadata": {},
   "outputs": [
    {
     "data": {
      "text/plain": [
       "1    138678\n",
       "0     12434\n",
       "Name: country, dtype: int64"
      ]
     },
     "execution_count": 49,
     "metadata": {},
     "output_type": "execute_result"
    }
   ],
   "source": [
    "df['country'].value_counts()"
   ]
  },
  {
   "cell_type": "code",
   "execution_count": 50,
   "metadata": {},
   "outputs": [
    {
     "data": {
      "text/plain": [
       "purchase_date\n",
       "2015-01-01    0.998249\n",
       "2015-01-02    0.985054\n",
       "2015-01-03    0.982079\n",
       "2015-01-04    0.965571\n",
       "2015-01-05    0.961938\n",
       "2015-01-06    0.961059\n",
       "2015-01-07    0.960358\n",
       "2015-01-08    0.940320\n",
       "2015-01-11    0.925414\n",
       "2015-01-12    0.921788\n",
       "2015-01-10    0.920777\n",
       "2015-01-09    0.914858\n",
       "2015-01-13    0.585366\n",
       "2015-12-09    0.116279\n",
       "2015-01-16    0.115942\n",
       "2015-12-10    0.114286\n",
       "2015-01-30    0.084848\n",
       "2015-11-14    0.083871\n",
       "2015-12-02    0.082192\n",
       "2015-12-05    0.081633\n",
       "2015-11-28    0.081633\n",
       "2015-12-01    0.079545\n",
       "2015-12-06    0.076923\n",
       "2015-01-17    0.075949\n",
       "2015-11-09    0.075145\n",
       "2015-03-05    0.075000\n",
       "2015-02-24    0.072727\n",
       "2015-12-13    0.071429\n",
       "2015-05-07    0.070147\n",
       "2015-11-17    0.069620\n",
       "2015-11-27    0.069565\n",
       "2015-10-07    0.069364\n",
       "2015-01-20    0.069307\n",
       "2015-09-12    0.067864\n",
       "2015-01-14    0.066667\n",
       "2015-03-07    0.066313\n",
       "2015-11-16    0.065476\n",
       "2015-06-28    0.065183\n",
       "2015-07-29    0.063733\n",
       "2015-07-12    0.063077\n",
       "Freq: D, Name: class, dtype: float64"
      ]
     },
     "execution_count": 50,
     "metadata": {},
     "output_type": "execute_result"
    }
   ],
   "source": [
    "#Jan-01-01 to 01-13 have very high fraud rate\n",
    "df.groupby('purchase_date').mean()['class'].sort_values(ascending = False).head(40)"
   ]
  },
  {
   "cell_type": "code",
   "execution_count": 51,
   "metadata": {},
   "outputs": [
    {
     "data": {
      "text/plain": [
       "PeriodIndex(['2015-01-01', '2015-01-02', '2015-01-03', '2015-01-04',\n",
       "             '2015-01-05', '2015-01-06', '2015-01-07', '2015-01-08',\n",
       "             '2015-01-11', '2015-01-12', '2015-01-10', '2015-01-09',\n",
       "             '2015-01-13'],\n",
       "            dtype='period[D]', name='purchase_date', freq='D')"
      ]
     },
     "execution_count": 51,
     "metadata": {},
     "output_type": "execute_result"
    }
   ],
   "source": [
    "TopDates = df.groupby('purchase_date').mean()['class'].sort_values(ascending = False).head(13).index\n",
    "TopDates"
   ]
  },
  {
   "cell_type": "code",
   "execution_count": 52,
   "metadata": {},
   "outputs": [],
   "source": [
    "#divide the 'purchase_date' column into 2 catagories (high fraud rate - 0, the rest - 1)\n",
    "df['purchase_date'] = np.where(df['purchase_date'].isin(TopDates), 0, 1)"
   ]
  },
  {
   "cell_type": "code",
   "execution_count": 53,
   "metadata": {},
   "outputs": [
    {
     "data": {
      "text/html": [
       "<div>\n",
       "<style scoped>\n",
       "    .dataframe tbody tr th:only-of-type {\n",
       "        vertical-align: middle;\n",
       "    }\n",
       "\n",
       "    .dataframe tbody tr th {\n",
       "        vertical-align: top;\n",
       "    }\n",
       "\n",
       "    .dataframe thead th {\n",
       "        text-align: right;\n",
       "    }\n",
       "</style>\n",
       "<table border=\"1\" class=\"dataframe\">\n",
       "  <thead>\n",
       "    <tr style=\"text-align: right;\">\n",
       "      <th></th>\n",
       "      <th>user_id</th>\n",
       "      <th>signup_time</th>\n",
       "      <th>purchase_time</th>\n",
       "      <th>purchase_value</th>\n",
       "      <th>age</th>\n",
       "      <th>ip_address</th>\n",
       "      <th>class</th>\n",
       "      <th>country</th>\n",
       "      <th>country_na</th>\n",
       "      <th>time_diff</th>\n",
       "      <th>time_diff_seconds</th>\n",
       "      <th>purchase_date</th>\n",
       "      <th>device_id_Three</th>\n",
       "      <th>sex_M</th>\n",
       "      <th>source_Direct</th>\n",
       "      <th>source_SEO</th>\n",
       "      <th>browser_FireFox</th>\n",
       "      <th>browser_IE</th>\n",
       "      <th>browser_Opera</th>\n",
       "      <th>browser_Safari</th>\n",
       "    </tr>\n",
       "  </thead>\n",
       "  <tbody>\n",
       "    <tr>\n",
       "      <th>0</th>\n",
       "      <td>22058</td>\n",
       "      <td>2015-02-24 22:55:49</td>\n",
       "      <td>2015-04-18 02:47:11</td>\n",
       "      <td>34</td>\n",
       "      <td>39</td>\n",
       "      <td>7.327584e+08</td>\n",
       "      <td>0</td>\n",
       "      <td>1</td>\n",
       "      <td>0</td>\n",
       "      <td>52 days 03:51:22</td>\n",
       "      <td>4506682.0</td>\n",
       "      <td>1</td>\n",
       "      <td>2</td>\n",
       "      <td>1</td>\n",
       "      <td>0</td>\n",
       "      <td>1</td>\n",
       "      <td>0</td>\n",
       "      <td>0</td>\n",
       "      <td>0</td>\n",
       "      <td>0</td>\n",
       "    </tr>\n",
       "    <tr>\n",
       "      <th>1</th>\n",
       "      <td>333320</td>\n",
       "      <td>2015-06-07 20:39:50</td>\n",
       "      <td>2015-06-08 01:38:54</td>\n",
       "      <td>16</td>\n",
       "      <td>53</td>\n",
       "      <td>3.503114e+08</td>\n",
       "      <td>0</td>\n",
       "      <td>1</td>\n",
       "      <td>0</td>\n",
       "      <td>0 days 04:59:04</td>\n",
       "      <td>17944.0</td>\n",
       "      <td>1</td>\n",
       "      <td>2</td>\n",
       "      <td>0</td>\n",
       "      <td>0</td>\n",
       "      <td>0</td>\n",
       "      <td>0</td>\n",
       "      <td>0</td>\n",
       "      <td>0</td>\n",
       "      <td>0</td>\n",
       "    </tr>\n",
       "    <tr>\n",
       "      <th>2</th>\n",
       "      <td>1359</td>\n",
       "      <td>2015-01-01 18:52:44</td>\n",
       "      <td>2015-01-01 18:52:45</td>\n",
       "      <td>15</td>\n",
       "      <td>53</td>\n",
       "      <td>2.621474e+09</td>\n",
       "      <td>1</td>\n",
       "      <td>1</td>\n",
       "      <td>0</td>\n",
       "      <td>0 days 00:00:01</td>\n",
       "      <td>1.0</td>\n",
       "      <td>0</td>\n",
       "      <td>1</td>\n",
       "      <td>1</td>\n",
       "      <td>0</td>\n",
       "      <td>1</td>\n",
       "      <td>0</td>\n",
       "      <td>0</td>\n",
       "      <td>1</td>\n",
       "      <td>0</td>\n",
       "    </tr>\n",
       "    <tr>\n",
       "      <th>3</th>\n",
       "      <td>150084</td>\n",
       "      <td>2015-04-28 21:13:25</td>\n",
       "      <td>2015-05-04 13:54:50</td>\n",
       "      <td>44</td>\n",
       "      <td>41</td>\n",
       "      <td>3.840542e+09</td>\n",
       "      <td>0</td>\n",
       "      <td>1</td>\n",
       "      <td>0</td>\n",
       "      <td>5 days 16:41:25</td>\n",
       "      <td>492085.0</td>\n",
       "      <td>1</td>\n",
       "      <td>2</td>\n",
       "      <td>1</td>\n",
       "      <td>0</td>\n",
       "      <td>1</td>\n",
       "      <td>0</td>\n",
       "      <td>0</td>\n",
       "      <td>0</td>\n",
       "      <td>1</td>\n",
       "    </tr>\n",
       "    <tr>\n",
       "      <th>4</th>\n",
       "      <td>221365</td>\n",
       "      <td>2015-07-21 07:09:52</td>\n",
       "      <td>2015-09-09 18:40:53</td>\n",
       "      <td>39</td>\n",
       "      <td>45</td>\n",
       "      <td>4.155831e+08</td>\n",
       "      <td>0</td>\n",
       "      <td>1</td>\n",
       "      <td>0</td>\n",
       "      <td>50 days 11:31:01</td>\n",
       "      <td>4361461.0</td>\n",
       "      <td>1</td>\n",
       "      <td>2</td>\n",
       "      <td>1</td>\n",
       "      <td>0</td>\n",
       "      <td>0</td>\n",
       "      <td>0</td>\n",
       "      <td>0</td>\n",
       "      <td>0</td>\n",
       "      <td>1</td>\n",
       "    </tr>\n",
       "  </tbody>\n",
       "</table>\n",
       "</div>"
      ],
      "text/plain": [
       "   user_id         signup_time       purchase_time  purchase_value  age  \\\n",
       "0    22058 2015-02-24 22:55:49 2015-04-18 02:47:11              34   39   \n",
       "1   333320 2015-06-07 20:39:50 2015-06-08 01:38:54              16   53   \n",
       "2     1359 2015-01-01 18:52:44 2015-01-01 18:52:45              15   53   \n",
       "3   150084 2015-04-28 21:13:25 2015-05-04 13:54:50              44   41   \n",
       "4   221365 2015-07-21 07:09:52 2015-09-09 18:40:53              39   45   \n",
       "\n",
       "     ip_address  class  country  country_na        time_diff  \\\n",
       "0  7.327584e+08      0        1           0 52 days 03:51:22   \n",
       "1  3.503114e+08      0        1           0  0 days 04:59:04   \n",
       "2  2.621474e+09      1        1           0  0 days 00:00:01   \n",
       "3  3.840542e+09      0        1           0  5 days 16:41:25   \n",
       "4  4.155831e+08      0        1           0 50 days 11:31:01   \n",
       "\n",
       "   time_diff_seconds  purchase_date  device_id_Three  sex_M  source_Direct  \\\n",
       "0          4506682.0              1                2      1              0   \n",
       "1            17944.0              1                2      0              0   \n",
       "2                1.0              0                1      1              0   \n",
       "3           492085.0              1                2      1              0   \n",
       "4          4361461.0              1                2      1              0   \n",
       "\n",
       "   source_SEO  browser_FireFox  browser_IE  browser_Opera  browser_Safari  \n",
       "0           1                0           0              0               0  \n",
       "1           0                0           0              0               0  \n",
       "2           1                0           0              1               0  \n",
       "3           1                0           0              0               1  \n",
       "4           0                0           0              0               1  "
      ]
     },
     "execution_count": 53,
     "metadata": {},
     "output_type": "execute_result"
    }
   ],
   "source": [
    "df.head()"
   ]
  },
  {
   "cell_type": "code",
   "execution_count": 54,
   "metadata": {},
   "outputs": [
    {
     "data": {
      "text/plain": [
       "user_id              0.001945\n",
       "purchase_value       0.001011\n",
       "age                  0.006624\n",
       "ip_address          -0.005208\n",
       "class                1.000000\n",
       "country             -0.047084\n",
       "country_na           0.233981\n",
       "time_diff_seconds   -0.257888\n",
       "purchase_date       -0.693729\n",
       "device_id_Three     -0.641899\n",
       "sex_M                0.007639\n",
       "source_Direct        0.020285\n",
       "source_SEO          -0.012251\n",
       "browser_FireFox      0.002299\n",
       "browser_IE          -0.013363\n",
       "browser_Opera       -0.002395\n",
       "browser_Safari      -0.005222\n",
       "Name: class, dtype: float64"
      ]
     },
     "execution_count": 54,
     "metadata": {},
     "output_type": "execute_result"
    }
   ],
   "source": [
    "df.corr()['class']"
   ]
  },
  {
   "cell_type": "code",
   "execution_count": 55,
   "metadata": {},
   "outputs": [],
   "source": [
    "X = df.drop(['user_id','signup_time','purchase_time','class','time_diff'], axis=1)\n",
    "y = df['class']"
   ]
  },
  {
   "cell_type": "code",
   "execution_count": 56,
   "metadata": {},
   "outputs": [
    {
     "data": {
      "text/plain": [
       "(151112, 15)"
      ]
     },
     "execution_count": 56,
     "metadata": {},
     "output_type": "execute_result"
    }
   ],
   "source": [
    "X.shape"
   ]
  },
  {
   "cell_type": "code",
   "execution_count": 57,
   "metadata": {},
   "outputs": [
    {
     "data": {
      "text/html": [
       "<div>\n",
       "<style scoped>\n",
       "    .dataframe tbody tr th:only-of-type {\n",
       "        vertical-align: middle;\n",
       "    }\n",
       "\n",
       "    .dataframe tbody tr th {\n",
       "        vertical-align: top;\n",
       "    }\n",
       "\n",
       "    .dataframe thead th {\n",
       "        text-align: right;\n",
       "    }\n",
       "</style>\n",
       "<table border=\"1\" class=\"dataframe\">\n",
       "  <thead>\n",
       "    <tr style=\"text-align: right;\">\n",
       "      <th></th>\n",
       "      <th>purchase_value</th>\n",
       "      <th>age</th>\n",
       "      <th>ip_address</th>\n",
       "      <th>country</th>\n",
       "      <th>country_na</th>\n",
       "      <th>time_diff_seconds</th>\n",
       "      <th>purchase_date</th>\n",
       "      <th>device_id_Three</th>\n",
       "      <th>sex_M</th>\n",
       "      <th>source_Direct</th>\n",
       "      <th>source_SEO</th>\n",
       "      <th>browser_FireFox</th>\n",
       "      <th>browser_IE</th>\n",
       "      <th>browser_Opera</th>\n",
       "      <th>browser_Safari</th>\n",
       "    </tr>\n",
       "  </thead>\n",
       "  <tbody>\n",
       "    <tr>\n",
       "      <th>0</th>\n",
       "      <td>34</td>\n",
       "      <td>39</td>\n",
       "      <td>7.327584e+08</td>\n",
       "      <td>1</td>\n",
       "      <td>0</td>\n",
       "      <td>4506682.0</td>\n",
       "      <td>1</td>\n",
       "      <td>2</td>\n",
       "      <td>1</td>\n",
       "      <td>0</td>\n",
       "      <td>1</td>\n",
       "      <td>0</td>\n",
       "      <td>0</td>\n",
       "      <td>0</td>\n",
       "      <td>0</td>\n",
       "    </tr>\n",
       "    <tr>\n",
       "      <th>1</th>\n",
       "      <td>16</td>\n",
       "      <td>53</td>\n",
       "      <td>3.503114e+08</td>\n",
       "      <td>1</td>\n",
       "      <td>0</td>\n",
       "      <td>17944.0</td>\n",
       "      <td>1</td>\n",
       "      <td>2</td>\n",
       "      <td>0</td>\n",
       "      <td>0</td>\n",
       "      <td>0</td>\n",
       "      <td>0</td>\n",
       "      <td>0</td>\n",
       "      <td>0</td>\n",
       "      <td>0</td>\n",
       "    </tr>\n",
       "    <tr>\n",
       "      <th>2</th>\n",
       "      <td>15</td>\n",
       "      <td>53</td>\n",
       "      <td>2.621474e+09</td>\n",
       "      <td>1</td>\n",
       "      <td>0</td>\n",
       "      <td>1.0</td>\n",
       "      <td>0</td>\n",
       "      <td>1</td>\n",
       "      <td>1</td>\n",
       "      <td>0</td>\n",
       "      <td>1</td>\n",
       "      <td>0</td>\n",
       "      <td>0</td>\n",
       "      <td>1</td>\n",
       "      <td>0</td>\n",
       "    </tr>\n",
       "    <tr>\n",
       "      <th>3</th>\n",
       "      <td>44</td>\n",
       "      <td>41</td>\n",
       "      <td>3.840542e+09</td>\n",
       "      <td>1</td>\n",
       "      <td>0</td>\n",
       "      <td>492085.0</td>\n",
       "      <td>1</td>\n",
       "      <td>2</td>\n",
       "      <td>1</td>\n",
       "      <td>0</td>\n",
       "      <td>1</td>\n",
       "      <td>0</td>\n",
       "      <td>0</td>\n",
       "      <td>0</td>\n",
       "      <td>1</td>\n",
       "    </tr>\n",
       "    <tr>\n",
       "      <th>4</th>\n",
       "      <td>39</td>\n",
       "      <td>45</td>\n",
       "      <td>4.155831e+08</td>\n",
       "      <td>1</td>\n",
       "      <td>0</td>\n",
       "      <td>4361461.0</td>\n",
       "      <td>1</td>\n",
       "      <td>2</td>\n",
       "      <td>1</td>\n",
       "      <td>0</td>\n",
       "      <td>0</td>\n",
       "      <td>0</td>\n",
       "      <td>0</td>\n",
       "      <td>0</td>\n",
       "      <td>1</td>\n",
       "    </tr>\n",
       "  </tbody>\n",
       "</table>\n",
       "</div>"
      ],
      "text/plain": [
       "   purchase_value  age    ip_address  country  country_na  time_diff_seconds  \\\n",
       "0              34   39  7.327584e+08        1           0          4506682.0   \n",
       "1              16   53  3.503114e+08        1           0            17944.0   \n",
       "2              15   53  2.621474e+09        1           0                1.0   \n",
       "3              44   41  3.840542e+09        1           0           492085.0   \n",
       "4              39   45  4.155831e+08        1           0          4361461.0   \n",
       "\n",
       "   purchase_date  device_id_Three  sex_M  source_Direct  source_SEO  \\\n",
       "0              1                2      1              0           1   \n",
       "1              1                2      0              0           0   \n",
       "2              0                1      1              0           1   \n",
       "3              1                2      1              0           1   \n",
       "4              1                2      1              0           0   \n",
       "\n",
       "   browser_FireFox  browser_IE  browser_Opera  browser_Safari  \n",
       "0                0           0              0               0  \n",
       "1                0           0              0               0  \n",
       "2                0           0              1               0  \n",
       "3                0           0              0               1  \n",
       "4                0           0              0               1  "
      ]
     },
     "execution_count": 57,
     "metadata": {},
     "output_type": "execute_result"
    }
   ],
   "source": [
    "X.head()"
   ]
  },
  {
   "cell_type": "code",
   "execution_count": 58,
   "metadata": {},
   "outputs": [
    {
     "data": {
      "text/plain": [
       "(151112,)"
      ]
     },
     "execution_count": 58,
     "metadata": {},
     "output_type": "execute_result"
    }
   ],
   "source": [
    "y.shape"
   ]
  },
  {
   "cell_type": "code",
   "execution_count": 59,
   "metadata": {},
   "outputs": [],
   "source": [
    "from sklearn.preprocessing import MinMaxScaler"
   ]
  },
  {
   "cell_type": "code",
   "execution_count": 60,
   "metadata": {},
   "outputs": [],
   "source": [
    "scaler = MinMaxScaler()"
   ]
  },
  {
   "cell_type": "code",
   "execution_count": 61,
   "metadata": {},
   "outputs": [],
   "source": [
    "from sklearn.model_selection import train_test_split"
   ]
  },
  {
   "cell_type": "code",
   "execution_count": 62,
   "metadata": {},
   "outputs": [],
   "source": [
    "X_train, X_test, y_train, y_test = train_test_split(X, y, test_size=0.3, random_state=101)"
   ]
  },
  {
   "cell_type": "code",
   "execution_count": 63,
   "metadata": {},
   "outputs": [],
   "source": [
    "X_train = scaler.fit_transform(X_train)"
   ]
  },
  {
   "cell_type": "code",
   "execution_count": 64,
   "metadata": {},
   "outputs": [],
   "source": [
    "X_test = scaler.transform(X_test)"
   ]
  },
  {
   "cell_type": "markdown",
   "metadata": {},
   "source": [
    "### Build a quick model - LogisticRegression"
   ]
  },
  {
   "cell_type": "code",
   "execution_count": 65,
   "metadata": {},
   "outputs": [],
   "source": [
    "from sklearn.linear_model import LogisticRegression "
   ]
  },
  {
   "cell_type": "code",
   "execution_count": 66,
   "metadata": {},
   "outputs": [],
   "source": [
    "LR = LogisticRegression()"
   ]
  },
  {
   "cell_type": "code",
   "execution_count": 67,
   "metadata": {},
   "outputs": [
    {
     "data": {
      "text/plain": [
       "LogisticRegression(C=1.0, class_weight=None, dual=False, fit_intercept=True,\n",
       "                   intercept_scaling=1, l1_ratio=None, max_iter=100,\n",
       "                   multi_class='auto', n_jobs=None, penalty='l2',\n",
       "                   random_state=None, solver='lbfgs', tol=0.0001, verbose=0,\n",
       "                   warm_start=False)"
      ]
     },
     "execution_count": 67,
     "metadata": {},
     "output_type": "execute_result"
    }
   ],
   "source": [
    "LR.fit(X_train,y_train)"
   ]
  },
  {
   "cell_type": "code",
   "execution_count": 68,
   "metadata": {},
   "outputs": [],
   "source": [
    "from sklearn.metrics import classification_report,confusion_matrix"
   ]
  },
  {
   "cell_type": "code",
   "execution_count": 69,
   "metadata": {},
   "outputs": [],
   "source": [
    "pred = LR.predict(X_test)"
   ]
  },
  {
   "cell_type": "code",
   "execution_count": 70,
   "metadata": {},
   "outputs": [
    {
     "name": "stdout",
     "output_type": "stream",
     "text": [
      "              precision    recall  f1-score   support\n",
      "\n",
      "           0       0.96      1.00      0.98     41222\n",
      "           1       0.92      0.53      0.68      4112\n",
      "\n",
      "    accuracy                           0.95     45334\n",
      "   macro avg       0.94      0.76      0.83     45334\n",
      "weighted avg       0.95      0.95      0.95     45334\n",
      "\n"
     ]
    }
   ],
   "source": [
    "print(classification_report(y_test,pred))"
   ]
  },
  {
   "cell_type": "markdown",
   "metadata": {},
   "source": [
    "### KNN model "
   ]
  },
  {
   "cell_type": "code",
   "execution_count": 71,
   "metadata": {},
   "outputs": [],
   "source": [
    "from sklearn.neighbors import KNeighborsClassifier"
   ]
  },
  {
   "cell_type": "code",
   "execution_count": 72,
   "metadata": {},
   "outputs": [],
   "source": [
    "knn = KNeighborsClassifier()"
   ]
  },
  {
   "cell_type": "code",
   "execution_count": 73,
   "metadata": {},
   "outputs": [
    {
     "data": {
      "text/plain": [
       "KNeighborsClassifier(algorithm='auto', leaf_size=30, metric='minkowski',\n",
       "                     metric_params=None, n_jobs=None, n_neighbors=5, p=2,\n",
       "                     weights='uniform')"
      ]
     },
     "execution_count": 73,
     "metadata": {},
     "output_type": "execute_result"
    }
   ],
   "source": [
    "knn.fit(X_train,y_train)"
   ]
  },
  {
   "cell_type": "code",
   "execution_count": 74,
   "metadata": {},
   "outputs": [
    {
     "name": "stdout",
     "output_type": "stream",
     "text": [
      "              precision    recall  f1-score   support\n",
      "\n",
      "           0       0.96      1.00      0.98     41222\n",
      "           1       0.96      0.53      0.68      4112\n",
      "\n",
      "    accuracy                           0.96     45334\n",
      "   macro avg       0.96      0.76      0.83     45334\n",
      "weighted avg       0.96      0.96      0.95     45334\n",
      "\n"
     ]
    }
   ],
   "source": [
    "pred_knn = knn.predict(X_test)\n",
    "print(classification_report(y_test,pred_knn))"
   ]
  },
  {
   "cell_type": "code",
   "execution_count": 75,
   "metadata": {},
   "outputs": [
    {
     "name": "stdout",
     "output_type": "stream",
     "text": [
      "[[41130    92]\n",
      " [ 1927  2185]]\n"
     ]
    }
   ],
   "source": [
    "print(confusion_matrix(y_test,pred_knn))"
   ]
  },
  {
   "cell_type": "markdown",
   "metadata": {},
   "source": [
    "### Random Forest Model "
   ]
  },
  {
   "cell_type": "code",
   "execution_count": 76,
   "metadata": {},
   "outputs": [],
   "source": [
    "from sklearn.ensemble import RandomForestClassifier\n",
    "RF = RandomForestClassifier()"
   ]
  },
  {
   "cell_type": "code",
   "execution_count": 77,
   "metadata": {},
   "outputs": [
    {
     "data": {
      "text/plain": [
       "RandomForestClassifier(bootstrap=True, ccp_alpha=0.0, class_weight=None,\n",
       "                       criterion='gini', max_depth=None, max_features='auto',\n",
       "                       max_leaf_nodes=None, max_samples=None,\n",
       "                       min_impurity_decrease=0.0, min_impurity_split=None,\n",
       "                       min_samples_leaf=1, min_samples_split=2,\n",
       "                       min_weight_fraction_leaf=0.0, n_estimators=100,\n",
       "                       n_jobs=None, oob_score=False, random_state=None,\n",
       "                       verbose=0, warm_start=False)"
      ]
     },
     "execution_count": 77,
     "metadata": {},
     "output_type": "execute_result"
    }
   ],
   "source": [
    "RF.fit(X_train,y_train)"
   ]
  },
  {
   "cell_type": "code",
   "execution_count": 78,
   "metadata": {},
   "outputs": [],
   "source": [
    "pred_RF = RF.predict(X_test)"
   ]
  },
  {
   "cell_type": "code",
   "execution_count": 79,
   "metadata": {},
   "outputs": [
    {
     "name": "stdout",
     "output_type": "stream",
     "text": [
      "              precision    recall  f1-score   support\n",
      "\n",
      "           0       0.96      1.00      0.98     41222\n",
      "           1       1.00      0.53      0.69      4112\n",
      "\n",
      "    accuracy                           0.96     45334\n",
      "   macro avg       0.98      0.77      0.84     45334\n",
      "weighted avg       0.96      0.96      0.95     45334\n",
      "\n"
     ]
    }
   ],
   "source": [
    "print(classification_report(y_test,pred_RF))"
   ]
  },
  {
   "cell_type": "code",
   "execution_count": 80,
   "metadata": {},
   "outputs": [
    {
     "data": {
      "text/html": [
       "<div>\n",
       "<style scoped>\n",
       "    .dataframe tbody tr th:only-of-type {\n",
       "        vertical-align: middle;\n",
       "    }\n",
       "\n",
       "    .dataframe tbody tr th {\n",
       "        vertical-align: top;\n",
       "    }\n",
       "\n",
       "    .dataframe thead th {\n",
       "        text-align: right;\n",
       "    }\n",
       "</style>\n",
       "<table border=\"1\" class=\"dataframe\">\n",
       "  <thead>\n",
       "    <tr style=\"text-align: right;\">\n",
       "      <th></th>\n",
       "      <th>Feature</th>\n",
       "      <th>Importance</th>\n",
       "    </tr>\n",
       "  </thead>\n",
       "  <tbody>\n",
       "    <tr>\n",
       "      <th>5</th>\n",
       "      <td>time_diff_seconds</td>\n",
       "      <td>0.314429</td>\n",
       "    </tr>\n",
       "    <tr>\n",
       "      <th>7</th>\n",
       "      <td>device_id_Three</td>\n",
       "      <td>0.174707</td>\n",
       "    </tr>\n",
       "    <tr>\n",
       "      <th>6</th>\n",
       "      <td>purchase_date</td>\n",
       "      <td>0.160942</td>\n",
       "    </tr>\n",
       "    <tr>\n",
       "      <th>2</th>\n",
       "      <td>ip_address</td>\n",
       "      <td>0.147477</td>\n",
       "    </tr>\n",
       "    <tr>\n",
       "      <th>0</th>\n",
       "      <td>purchase_value</td>\n",
       "      <td>0.090455</td>\n",
       "    </tr>\n",
       "    <tr>\n",
       "      <th>1</th>\n",
       "      <td>age</td>\n",
       "      <td>0.074060</td>\n",
       "    </tr>\n",
       "    <tr>\n",
       "      <th>4</th>\n",
       "      <td>country_na</td>\n",
       "      <td>0.010764</td>\n",
       "    </tr>\n",
       "    <tr>\n",
       "      <th>8</th>\n",
       "      <td>sex_M</td>\n",
       "      <td>0.006366</td>\n",
       "    </tr>\n",
       "    <tr>\n",
       "      <th>12</th>\n",
       "      <td>browser_IE</td>\n",
       "      <td>0.004123</td>\n",
       "    </tr>\n",
       "    <tr>\n",
       "      <th>14</th>\n",
       "      <td>browser_Safari</td>\n",
       "      <td>0.003787</td>\n",
       "    </tr>\n",
       "    <tr>\n",
       "      <th>11</th>\n",
       "      <td>browser_FireFox</td>\n",
       "      <td>0.003317</td>\n",
       "    </tr>\n",
       "    <tr>\n",
       "      <th>10</th>\n",
       "      <td>source_SEO</td>\n",
       "      <td>0.003284</td>\n",
       "    </tr>\n",
       "    <tr>\n",
       "      <th>3</th>\n",
       "      <td>country</td>\n",
       "      <td>0.002874</td>\n",
       "    </tr>\n",
       "    <tr>\n",
       "      <th>9</th>\n",
       "      <td>source_Direct</td>\n",
       "      <td>0.002129</td>\n",
       "    </tr>\n",
       "    <tr>\n",
       "      <th>13</th>\n",
       "      <td>browser_Opera</td>\n",
       "      <td>0.001285</td>\n",
       "    </tr>\n",
       "  </tbody>\n",
       "</table>\n",
       "</div>"
      ],
      "text/plain": [
       "              Feature  Importance\n",
       "5   time_diff_seconds    0.314429\n",
       "7     device_id_Three    0.174707\n",
       "6       purchase_date    0.160942\n",
       "2          ip_address    0.147477\n",
       "0      purchase_value    0.090455\n",
       "1                 age    0.074060\n",
       "4          country_na    0.010764\n",
       "8               sex_M    0.006366\n",
       "12         browser_IE    0.004123\n",
       "14     browser_Safari    0.003787\n",
       "11    browser_FireFox    0.003317\n",
       "10         source_SEO    0.003284\n",
       "3             country    0.002874\n",
       "9       source_Direct    0.002129\n",
       "13      browser_Opera    0.001285"
      ]
     },
     "execution_count": 80,
     "metadata": {},
     "output_type": "execute_result"
    }
   ],
   "source": [
    "df_FeatureImportance = pd.DataFrame({'Feature': X.columns, 'Importance': RF.feature_importances_})\n",
    "df_FeatureImportance.sort_values('Importance', ascending = False)"
   ]
  },
  {
   "cell_type": "markdown",
   "metadata": {},
   "source": [
    "## Question 3: What kinds of users are more likely to be classified as at risk?\n",
    "### The most important features are: 1) time_diff_seconds - time in second the purchase is made after sign up; 2) device_id_Three - number of times the same device is used for the purchase; 3) purchase_date; 4) ip_address - wheather the ip address has a country names assigned to it; 5) purchase value. \n",
    "### The following characteristics are more likely to be classified as at risk: purchases made right after sign up, devices that were shared by multiple users for more than 5 purchases, ip addresses that have no country name assigned and are associated with more than 5 purchases"
   ]
  },
  {
   "cell_type": "markdown",
   "metadata": {},
   "source": [
    "### SVC"
   ]
  },
  {
   "cell_type": "code",
   "execution_count": 81,
   "metadata": {},
   "outputs": [],
   "source": [
    "from sklearn.svm import SVC"
   ]
  },
  {
   "cell_type": "code",
   "execution_count": 82,
   "metadata": {},
   "outputs": [],
   "source": [
    "svc = SVC()"
   ]
  },
  {
   "cell_type": "code",
   "execution_count": 83,
   "metadata": {},
   "outputs": [
    {
     "data": {
      "text/plain": [
       "SVC(C=1.0, break_ties=False, cache_size=200, class_weight=None, coef0=0.0,\n",
       "    decision_function_shape='ovr', degree=3, gamma='scale', kernel='rbf',\n",
       "    max_iter=-1, probability=False, random_state=None, shrinking=True,\n",
       "    tol=0.001, verbose=False)"
      ]
     },
     "execution_count": 83,
     "metadata": {},
     "output_type": "execute_result"
    }
   ],
   "source": [
    "svc.fit(X_train,y_train)"
   ]
  },
  {
   "cell_type": "code",
   "execution_count": 89,
   "metadata": {},
   "outputs": [],
   "source": [
    "pred_svc = svc.predict(X_test)"
   ]
  },
  {
   "cell_type": "code",
   "execution_count": 90,
   "metadata": {},
   "outputs": [
    {
     "name": "stdout",
     "output_type": "stream",
     "text": [
      "              precision    recall  f1-score   support\n",
      "\n",
      "           0       0.96      1.00      0.98     41222\n",
      "           1       0.99      0.53      0.69      4112\n",
      "\n",
      "    accuracy                           0.96     45334\n",
      "   macro avg       0.97      0.76      0.83     45334\n",
      "weighted avg       0.96      0.96      0.95     45334\n",
      "\n"
     ]
    }
   ],
   "source": [
    "print(classification_report(y_test,pred_svc))"
   ]
  },
  {
   "cell_type": "code",
   "execution_count": 91,
   "metadata": {},
   "outputs": [
    {
     "name": "stdout",
     "output_type": "stream",
     "text": [
      "[[41206    16]\n",
      " [ 1940  2172]]\n"
     ]
    }
   ],
   "source": [
    "print(confusion_matrix(y_test,pred_svc))"
   ]
  },
  {
   "cell_type": "markdown",
   "metadata": {},
   "source": [
    "## Question 2:Build a model to predict whether an activity is fraudulent or not. Explain how different assumptions about the cost of false positives vs false negatives would impact the model.\n",
    "### The best model (random forest) yields a precision 1.0 and recall 0.53. Precision represents false positives and recall presents false negatives. For fraud detection, minizing false negatives is critical even though it will decrease the precision. Therefore, the decision boundary probably needs to be shifted to improve recall even though precision will be compromised"
   ]
  },
  {
   "cell_type": "markdown",
   "metadata": {},
   "source": [
    "### Evaluation Metrics for binary classification with svc model "
   ]
  },
  {
   "cell_type": "code",
   "execution_count": 92,
   "metadata": {},
   "outputs": [],
   "source": [
    "from sklearn.metrics import roc_curve,precision_recall_curve,roc_curve, auc"
   ]
  },
  {
   "cell_type": "code",
   "execution_count": 94,
   "metadata": {},
   "outputs": [
    {
     "data": {
      "text/plain": [
       "[(0, -0.999980359846718),\n",
       " (0, -1.0002136121154408),\n",
       " (0, -0.9998646465482677),\n",
       " (0, -1.0001939162461189),\n",
       " (0, -1.0001330737445078),\n",
       " (0, -1.0002541034640438),\n",
       " (0, -0.9998493553669922),\n",
       " (0, -1.0000378602725926),\n",
       " (0, -1.0001846214896504),\n",
       " (1, -0.9998238832294758),\n",
       " (0, -1.0001426906749789),\n",
       " (1, 2.0649937930917823),\n",
       " (0, -1.0002669425734043),\n",
       " (0, -0.9998368957932298),\n",
       " (0, -1.000300505725387),\n",
       " (0, -1.0001933865881372),\n",
       " (0, -1.0003208122547749),\n",
       " (0, -1.0003633161419245),\n",
       " (0, -0.9999108568687554),\n",
       " (0, -1.0000517525120969)]"
      ]
     },
     "execution_count": 94,
     "metadata": {},
     "output_type": "execute_result"
    }
   ],
   "source": [
    "y_scores = svc.fit(X_train, y_train).decision_function(X_test)\n",
    "y_scores_list = list(zip(y_test[0:20], y_scores[0:20]))\n",
    "y_scores_list  "
   ]
  },
  {
   "cell_type": "code",
   "execution_count": 95,
   "metadata": {},
   "outputs": [],
   "source": [
    "precision, recall, thresholds = precision_recall_curve(y_test, y_scores)\n",
    "closest_zero = np.argmin(np.abs(thresholds))\n",
    "closest_zero_p = precision[closest_zero]\n",
    "closest_zero_r = recall[closest_zero]"
   ]
  },
  {
   "cell_type": "code",
   "execution_count": 96,
   "metadata": {},
   "outputs": [
    {
     "data": {
      "image/png": "[encoded data removed]",
      "text/plain": [
       "<Figure size 432x288 with 1 Axes>"
      ]
     },
     "metadata": {
      "needs_background": "light"
     },
     "output_type": "display_data"
    }
   ],
   "source": [
    "plt.figure()\n",
    "plt.xlim([0.0, 1.01])\n",
    "plt.ylim([0.0, 1.01])\n",
    "plt.plot(precision, recall, label='Precision-Recall Curve')\n",
    "plt.plot(closest_zero_p, closest_zero_r, 'o', markersize = 12, fillstyle = 'none', c='r', mew=3)\n",
    "plt.xlabel('Precision', fontsize=16)\n",
    "plt.ylabel('Recall', fontsize=16)\n",
    "plt.show()\n",
    "# red circle is when the threshold is cloest to zero "
   ]
  },
  {
   "cell_type": "markdown",
   "metadata": {},
   "source": [
    "#### The red circle (the result of the SVC model) is when the threshold is cloest to zero. For fraud detection, it is critical to maximize recall = minimize false negatives. But from the precision-recall curve, precision needs to be decreased significantly in order to boost recall"
   ]
  },
  {
   "cell_type": "markdown",
   "metadata": {},
   "source": [
    "## Question 4: From a product perspective, how would you use the model to predict in real time\n",
    "### the models were built for a binary classification problem. The recall of the models are not satisfactory, meaning lots of false negatives would happen, which is a very serious problem for fraud prediction. One of the solution for this is set the thresholds to predict three classes - non-fraud, suspicious and Fraud. In the case of suspicious, the user will be put on hold, and a manual inspection will take place. "
   ]
  },
  {
   "cell_type": "code",
   "execution_count": null,
   "metadata": {},
   "outputs": [],
   "source": []
  }
 ],
 "metadata": {
  "kernelspec": {
   "display_name": "Python 3",
   "language": "python",
   "name": "python3"
  }
 },
 "nbformat": 4,
 "nbformat_minor": 4
}
